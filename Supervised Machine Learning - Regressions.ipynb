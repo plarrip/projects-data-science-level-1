{
 "cells": [
  {
   "cell_type": "markdown",
   "id": "14522113",
   "metadata": {
    "ExecuteTime": {
     "end_time": "2022-03-19T13:58:36.087393Z",
     "start_time": "2022-03-19T13:58:36.076053Z"
    }
   },
   "source": [
    "# S09T02 - Aprenentatge Supervisat - Regressions\n",
    "Anem a practicar i a familiaritzar-nos amb regressions\n",
    "\n",
    "## - Exercici 1\n",
    "Crea almenys tres models de regressió diferents per intentar predir el millor possible l’endarreriment dels vols (ArrDelay) de DelayedFlights.csv."
   ]
  },
  {
   "cell_type": "code",
   "execution_count": 1,
   "id": "799ac8c6",
   "metadata": {
    "ExecuteTime": {
     "end_time": "2022-03-23T11:26:56.180394Z",
     "start_time": "2022-03-23T11:26:44.009905Z"
    }
   },
   "outputs": [
    {
     "name": "stdout",
     "output_type": "stream",
     "text": [
      "(5000, 95)\n"
     ]
    },
    {
     "data": {
      "text/html": [
       "<div>\n",
       "<style scoped>\n",
       "    .dataframe tbody tr th:only-of-type {\n",
       "        vertical-align: middle;\n",
       "    }\n",
       "\n",
       "    .dataframe tbody tr th {\n",
       "        vertical-align: top;\n",
       "    }\n",
       "\n",
       "    .dataframe thead th {\n",
       "        text-align: right;\n",
       "    }\n",
       "</style>\n",
       "<table border=\"1\" class=\"dataframe\">\n",
       "  <thead>\n",
       "    <tr style=\"text-align: right;\">\n",
       "      <th></th>\n",
       "      <th>PC1</th>\n",
       "      <th>PC2</th>\n",
       "      <th>PC3</th>\n",
       "      <th>PC4</th>\n",
       "      <th>PC5</th>\n",
       "      <th>PC6</th>\n",
       "      <th>PC7</th>\n",
       "      <th>PC8</th>\n",
       "      <th>PC9</th>\n",
       "      <th>PC10</th>\n",
       "      <th>...</th>\n",
       "      <th>PC86</th>\n",
       "      <th>PC87</th>\n",
       "      <th>PC88</th>\n",
       "      <th>PC89</th>\n",
       "      <th>PC90</th>\n",
       "      <th>PC91</th>\n",
       "      <th>PC92</th>\n",
       "      <th>PC93</th>\n",
       "      <th>PC94</th>\n",
       "      <th>ArrDelay</th>\n",
       "    </tr>\n",
       "  </thead>\n",
       "  <tbody>\n",
       "    <tr>\n",
       "      <th>145858</th>\n",
       "      <td>1.396170</td>\n",
       "      <td>-1.390386</td>\n",
       "      <td>-0.225042</td>\n",
       "      <td>0.314900</td>\n",
       "      <td>-0.310098</td>\n",
       "      <td>0.302304</td>\n",
       "      <td>-0.539102</td>\n",
       "      <td>0.604565</td>\n",
       "      <td>-0.227979</td>\n",
       "      <td>-0.632107</td>\n",
       "      <td>...</td>\n",
       "      <td>0.052815</td>\n",
       "      <td>-0.015256</td>\n",
       "      <td>-0.058390</td>\n",
       "      <td>-0.038548</td>\n",
       "      <td>0.028782</td>\n",
       "      <td>0.035852</td>\n",
       "      <td>-0.033341</td>\n",
       "      <td>-0.041798</td>\n",
       "      <td>-0.090094</td>\n",
       "      <td>0.0</td>\n",
       "    </tr>\n",
       "    <tr>\n",
       "      <th>254707</th>\n",
       "      <td>-0.469036</td>\n",
       "      <td>-0.022620</td>\n",
       "      <td>0.788008</td>\n",
       "      <td>-1.509076</td>\n",
       "      <td>0.581078</td>\n",
       "      <td>2.479393</td>\n",
       "      <td>-0.539447</td>\n",
       "      <td>0.668152</td>\n",
       "      <td>0.722224</td>\n",
       "      <td>0.296248</td>\n",
       "      <td>...</td>\n",
       "      <td>0.032493</td>\n",
       "      <td>-0.049213</td>\n",
       "      <td>-0.014651</td>\n",
       "      <td>0.013967</td>\n",
       "      <td>-0.015821</td>\n",
       "      <td>0.000173</td>\n",
       "      <td>0.005804</td>\n",
       "      <td>0.004079</td>\n",
       "      <td>0.026587</td>\n",
       "      <td>155.0</td>\n",
       "    </tr>\n",
       "    <tr>\n",
       "      <th>364029</th>\n",
       "      <td>1.068420</td>\n",
       "      <td>-0.744484</td>\n",
       "      <td>1.447697</td>\n",
       "      <td>-1.043943</td>\n",
       "      <td>-1.353481</td>\n",
       "      <td>-0.451649</td>\n",
       "      <td>-0.442154</td>\n",
       "      <td>-0.875133</td>\n",
       "      <td>-0.142325</td>\n",
       "      <td>-0.257361</td>\n",
       "      <td>...</td>\n",
       "      <td>-0.044038</td>\n",
       "      <td>0.049780</td>\n",
       "      <td>-0.015410</td>\n",
       "      <td>-0.024216</td>\n",
       "      <td>0.009596</td>\n",
       "      <td>0.019788</td>\n",
       "      <td>0.005140</td>\n",
       "      <td>0.000538</td>\n",
       "      <td>-0.062790</td>\n",
       "      <td>7.0</td>\n",
       "    </tr>\n",
       "    <tr>\n",
       "      <th>479783</th>\n",
       "      <td>0.514075</td>\n",
       "      <td>-0.304216</td>\n",
       "      <td>-0.653846</td>\n",
       "      <td>1.329317</td>\n",
       "      <td>0.043758</td>\n",
       "      <td>1.506721</td>\n",
       "      <td>0.772544</td>\n",
       "      <td>0.206381</td>\n",
       "      <td>0.777402</td>\n",
       "      <td>0.161538</td>\n",
       "      <td>...</td>\n",
       "      <td>0.019218</td>\n",
       "      <td>0.001648</td>\n",
       "      <td>0.013079</td>\n",
       "      <td>-0.013701</td>\n",
       "      <td>0.008458</td>\n",
       "      <td>-0.005067</td>\n",
       "      <td>0.002248</td>\n",
       "      <td>-0.025791</td>\n",
       "      <td>-0.007057</td>\n",
       "      <td>64.0</td>\n",
       "    </tr>\n",
       "    <tr>\n",
       "      <th>492759</th>\n",
       "      <td>-2.739870</td>\n",
       "      <td>-0.626060</td>\n",
       "      <td>-0.358018</td>\n",
       "      <td>1.640876</td>\n",
       "      <td>0.072447</td>\n",
       "      <td>0.014453</td>\n",
       "      <td>0.777914</td>\n",
       "      <td>0.139016</td>\n",
       "      <td>-0.231007</td>\n",
       "      <td>-0.793044</td>\n",
       "      <td>...</td>\n",
       "      <td>-0.055241</td>\n",
       "      <td>0.108305</td>\n",
       "      <td>0.081344</td>\n",
       "      <td>-0.188451</td>\n",
       "      <td>0.134585</td>\n",
       "      <td>-0.044350</td>\n",
       "      <td>-0.034887</td>\n",
       "      <td>0.060972</td>\n",
       "      <td>0.004642</td>\n",
       "      <td>7.0</td>\n",
       "    </tr>\n",
       "  </tbody>\n",
       "</table>\n",
       "<p>5 rows × 95 columns</p>\n",
       "</div>"
      ],
      "text/plain": [
       "             PC1       PC2       PC3       PC4       PC5       PC6       PC7  \\\n",
       "145858  1.396170 -1.390386 -0.225042  0.314900 -0.310098  0.302304 -0.539102   \n",
       "254707 -0.469036 -0.022620  0.788008 -1.509076  0.581078  2.479393 -0.539447   \n",
       "364029  1.068420 -0.744484  1.447697 -1.043943 -1.353481 -0.451649 -0.442154   \n",
       "479783  0.514075 -0.304216 -0.653846  1.329317  0.043758  1.506721  0.772544   \n",
       "492759 -2.739870 -0.626060 -0.358018  1.640876  0.072447  0.014453  0.777914   \n",
       "\n",
       "             PC8       PC9      PC10  ...      PC86      PC87      PC88  \\\n",
       "145858  0.604565 -0.227979 -0.632107  ...  0.052815 -0.015256 -0.058390   \n",
       "254707  0.668152  0.722224  0.296248  ...  0.032493 -0.049213 -0.014651   \n",
       "364029 -0.875133 -0.142325 -0.257361  ... -0.044038  0.049780 -0.015410   \n",
       "479783  0.206381  0.777402  0.161538  ...  0.019218  0.001648  0.013079   \n",
       "492759  0.139016 -0.231007 -0.793044  ... -0.055241  0.108305  0.081344   \n",
       "\n",
       "            PC89      PC90      PC91      PC92      PC93      PC94  ArrDelay  \n",
       "145858 -0.038548  0.028782  0.035852 -0.033341 -0.041798 -0.090094       0.0  \n",
       "254707  0.013967 -0.015821  0.000173  0.005804  0.004079  0.026587     155.0  \n",
       "364029 -0.024216  0.009596  0.019788  0.005140  0.000538 -0.062790       7.0  \n",
       "479783 -0.013701  0.008458 -0.005067  0.002248 -0.025791 -0.007057      64.0  \n",
       "492759 -0.188451  0.134585 -0.044350 -0.034887  0.060972  0.004642       7.0  \n",
       "\n",
       "[5 rows x 95 columns]"
      ]
     },
     "execution_count": 1,
     "metadata": {},
     "output_type": "execute_result"
    }
   ],
   "source": [
    "import numpy as np\n",
    "import pandas as pd\n",
    "import seaborn as sns\n",
    "import matplotlib.pyplot as plt\n",
    "from sklearn import preprocessing, svm\n",
    "from sklearn.model_selection import train_test_split\n",
    "from sklearn.linear_model import LinearRegression\n",
    "\n",
    "#loading the data\n",
    "delays2 = pd.read_csv(r'delayed2.csv')\n",
    "\n",
    "delays2.drop(\"Unnamed: 0\", inplace=True, axis=1)\n",
    "delays2 = delays2.sample(5000, random_state=42)\n",
    "print(delays2.shape)\n",
    "delays2.sample(5, random_state=42)"
   ]
  },
  {
   "cell_type": "markdown",
   "id": "9554c911",
   "metadata": {},
   "source": [
    "## - Linear Regression"
   ]
  },
  {
   "cell_type": "code",
   "execution_count": 2,
   "id": "bd1f1a9e",
   "metadata": {
    "ExecuteTime": {
     "end_time": "2022-03-23T11:26:56.227659Z",
     "start_time": "2022-03-23T11:26:56.181379Z"
    }
   },
   "outputs": [
    {
     "name": "stdout",
     "output_type": "stream",
     "text": [
      "coefficient of determination: 0.9949473147976851\n",
      "intercept: 42.85081941557185\n",
      "slope: [ 1.03467781 33.38164827 18.29006294]\n",
      "predicted response:\n",
      "[ 2.04256409 10.96782449 -9.24262106 ... -2.58609038 17.17515707\n",
      " -3.94350616]\n"
     ]
    }
   ],
   "source": [
    "#Steps 1 and 2: Import packages and classes, and provide data\n",
    "y = delays2[\"ArrDelay\"]\n",
    "X = delays2.loc[:, delays2.columns != 'ArrDelay']\n",
    "\n",
    "#splitting between test and train\n",
    "X_train, X_test, y_train, y_test = train_test_split(X, y, test_size = 0.3)\n",
    "\n",
    "#Step 3: Create a model and fit it\n",
    "model = LinearRegression().fit(X_train, y_train)\n",
    "\n",
    "#Step 4: Get results\n",
    "r_sq1 = model.score(X_test, y_test)\n",
    "print('coefficient of determination:', r_sq1)\n",
    "print('intercept:', model.intercept_)\n",
    "print('slope:', model.coef_[:3])\n",
    "    \n",
    "#Step 5: Predict response\n",
    "y_pred = model.predict(X_test)\n",
    "print('predicted response:', y_pred, sep='\\n')"
   ]
  },
  {
   "cell_type": "markdown",
   "id": "30b1d6ec",
   "metadata": {},
   "source": [
    "99% R2. This high accuracy score of our model suggests that our regressive model has fitted very well to the existing data. This suggests that our data is very suitable for linear regression.<br>\n",
    "We are now confident enough to use this model to predict target attributes based on new inputs:"
   ]
  },
  {
   "cell_type": "code",
   "execution_count": 3,
   "id": "13c90d2d",
   "metadata": {
    "ExecuteTime": {
     "end_time": "2022-03-23T11:27:08.722054Z",
     "start_time": "2022-03-23T11:27:08.704320Z"
    },
    "scrolled": false
   },
   "outputs": [
    {
     "name": "stdout",
     "output_type": "stream",
     "text": [
      "Predicted ArrDelay:  8.11\n"
     ]
    },
    {
     "name": "stderr",
     "output_type": "stream",
     "text": [
      "/Users/paullarripa/opt/anaconda3/lib/python3.9/site-packages/sklearn/base.py:450: UserWarning: X does not have valid feature names, but LinearRegression was fitted with feature names\n",
      "  warnings.warn(\n"
     ]
    }
   ],
   "source": [
    "o = delays2.loc[492759][:-1].array.reshape(1, -1)\n",
    "y_pred = model.predict(o)\n",
    "print(\"Predicted ArrDelay: \", round(y_pred[0],2))"
   ]
  },
  {
   "cell_type": "code",
   "execution_count": 4,
   "id": "3cc345aa",
   "metadata": {
    "ExecuteTime": {
     "end_time": "2022-03-23T11:27:08.724181Z",
     "start_time": "2022-03-23T11:27:08.703Z"
    }
   },
   "outputs": [
    {
     "data": {
      "text/html": [
       "<div>\n",
       "<style scoped>\n",
       "    .dataframe tbody tr th:only-of-type {\n",
       "        vertical-align: middle;\n",
       "    }\n",
       "\n",
       "    .dataframe tbody tr th {\n",
       "        vertical-align: top;\n",
       "    }\n",
       "\n",
       "    .dataframe thead th {\n",
       "        text-align: right;\n",
       "    }\n",
       "</style>\n",
       "<table border=\"1\" class=\"dataframe\">\n",
       "  <thead>\n",
       "    <tr style=\"text-align: right;\">\n",
       "      <th></th>\n",
       "      <th>Actual</th>\n",
       "      <th>Prediction</th>\n",
       "      <th>Delta</th>\n",
       "    </tr>\n",
       "  </thead>\n",
       "  <tbody>\n",
       "    <tr>\n",
       "      <th>225670</th>\n",
       "      <td>39.0</td>\n",
       "      <td>42.909116</td>\n",
       "      <td>3.91</td>\n",
       "    </tr>\n",
       "    <tr>\n",
       "      <th>137228</th>\n",
       "      <td>0.0</td>\n",
       "      <td>1.769138</td>\n",
       "      <td>1.77</td>\n",
       "    </tr>\n",
       "    <tr>\n",
       "      <th>460891</th>\n",
       "      <td>8.0</td>\n",
       "      <td>12.423822</td>\n",
       "      <td>4.42</td>\n",
       "    </tr>\n",
       "    <tr>\n",
       "      <th>121832</th>\n",
       "      <td>29.0</td>\n",
       "      <td>29.558092</td>\n",
       "      <td>0.56</td>\n",
       "    </tr>\n",
       "    <tr>\n",
       "      <th>457168</th>\n",
       "      <td>4.0</td>\n",
       "      <td>4.522003</td>\n",
       "      <td>0.52</td>\n",
       "    </tr>\n",
       "  </tbody>\n",
       "</table>\n",
       "</div>"
      ],
      "text/plain": [
       "        Actual  Prediction  Delta\n",
       "225670    39.0   42.909116   3.91\n",
       "137228     0.0    1.769138   1.77\n",
       "460891     8.0   12.423822   4.42\n",
       "121832    29.0   29.558092   0.56\n",
       "457168     4.0    4.522003   0.52"
      ]
     },
     "execution_count": 4,
     "metadata": {},
     "output_type": "execute_result"
    }
   ],
   "source": [
    "lr_pred = model.predict(X_test)\n",
    "pred = pd.DataFrame({'Actual':y_test, 'Prediction': lr_pred, 'Delta':round(model.predict(X_test)-y_test,2)})\n",
    "pred.sample(5, random_state=42)"
   ]
  },
  {
   "cell_type": "markdown",
   "id": "0c5454a3",
   "metadata": {},
   "source": [
    "As we can observe, the accuracy is very high on predicting the ArrDelay."
   ]
  },
  {
   "cell_type": "markdown",
   "id": "736dbd46",
   "metadata": {},
   "source": [
    "## - Decision Tree"
   ]
  },
  {
   "cell_type": "code",
   "execution_count": 5,
   "id": "97da52c9",
   "metadata": {
    "ExecuteTime": {
     "end_time": "2022-03-23T11:27:08.725998Z",
     "start_time": "2022-03-23T11:27:08.705Z"
    }
   },
   "outputs": [
    {
     "name": "stdout",
     "output_type": "stream",
     "text": [
      "coefficient of determination: 0.8411995186678505\n"
     ]
    }
   ],
   "source": [
    "#1 Importing the libraries\n",
    "#2 Importing the dataset\n",
    "\n",
    "#Steps 1 and 2: Import packages and classes, and provide data\n",
    "y = delays2[\"ArrDelay\"]\n",
    "X = delays2.loc[:, delays2.columns != 'ArrDelay']\n",
    "#splitting between test and train\n",
    "X_train, X_test, y_train, y_test = train_test_split(X, y, test_size = 0.3)\n",
    "\n",
    "#3 Fitting the Decision Tree Regression Model to the dataset\n",
    "from sklearn.tree import DecisionTreeRegressor\n",
    "regressor = DecisionTreeRegressor(random_state=0)\n",
    "#Fit the regressor object to the dataset.\n",
    "model = regressor.fit(X_train, y_train)\n",
    "\n",
    "#Step 4: Get results\n",
    "r_sq2 = model.score(X_test, y_test)\n",
    "print('coefficient of determination:', r_sq2)"
   ]
  },
  {
   "cell_type": "markdown",
   "id": "3ccf6a0a",
   "metadata": {},
   "source": [
    "The accuracy of the model is quite high (80%) but a bit lower than the Linear Regression model. Nevertheless, we'll see how the model performs on predicting the target when inputting new data:"
   ]
  },
  {
   "cell_type": "code",
   "execution_count": 6,
   "id": "2f137721",
   "metadata": {
    "ExecuteTime": {
     "end_time": "2022-03-23T11:27:08.726995Z",
     "start_time": "2022-03-23T11:27:08.708Z"
    }
   },
   "outputs": [
    {
     "name": "stdout",
     "output_type": "stream",
     "text": [
      "Predicted ArrDelay:  7.0\n"
     ]
    },
    {
     "name": "stderr",
     "output_type": "stream",
     "text": [
      "/Users/paullarripa/opt/anaconda3/lib/python3.9/site-packages/sklearn/base.py:450: UserWarning: X does not have valid feature names, but DecisionTreeRegressor was fitted with feature names\n",
      "  warnings.warn(\n"
     ]
    }
   ],
   "source": [
    "#5 Predicting a new result\n",
    "o = delays2.loc[492759][:-1].array.reshape(1, -1)\n",
    "y_pred = model.predict(o)\n",
    "print(\"Predicted ArrDelay: \", round(y_pred[0],2))"
   ]
  },
  {
   "cell_type": "code",
   "execution_count": 7,
   "id": "f9306e1d",
   "metadata": {
    "ExecuteTime": {
     "end_time": "2022-03-23T11:27:08.727992Z",
     "start_time": "2022-03-23T11:27:08.709Z"
    }
   },
   "outputs": [
    {
     "data": {
      "text/html": [
       "<div>\n",
       "<style scoped>\n",
       "    .dataframe tbody tr th:only-of-type {\n",
       "        vertical-align: middle;\n",
       "    }\n",
       "\n",
       "    .dataframe tbody tr th {\n",
       "        vertical-align: top;\n",
       "    }\n",
       "\n",
       "    .dataframe thead th {\n",
       "        text-align: right;\n",
       "    }\n",
       "</style>\n",
       "<table border=\"1\" class=\"dataframe\">\n",
       "  <thead>\n",
       "    <tr style=\"text-align: right;\">\n",
       "      <th></th>\n",
       "      <th>Actual</th>\n",
       "      <th>Prediction</th>\n",
       "      <th>Delta</th>\n",
       "    </tr>\n",
       "  </thead>\n",
       "  <tbody>\n",
       "    <tr>\n",
       "      <th>137625</th>\n",
       "      <td>138.0</td>\n",
       "      <td>150.0</td>\n",
       "      <td>12.0</td>\n",
       "    </tr>\n",
       "    <tr>\n",
       "      <th>23237</th>\n",
       "      <td>314.0</td>\n",
       "      <td>351.0</td>\n",
       "      <td>37.0</td>\n",
       "    </tr>\n",
       "    <tr>\n",
       "      <th>303173</th>\n",
       "      <td>81.0</td>\n",
       "      <td>63.0</td>\n",
       "      <td>-18.0</td>\n",
       "    </tr>\n",
       "    <tr>\n",
       "      <th>125007</th>\n",
       "      <td>30.0</td>\n",
       "      <td>22.0</td>\n",
       "      <td>-8.0</td>\n",
       "    </tr>\n",
       "    <tr>\n",
       "      <th>217589</th>\n",
       "      <td>28.0</td>\n",
       "      <td>41.0</td>\n",
       "      <td>13.0</td>\n",
       "    </tr>\n",
       "  </tbody>\n",
       "</table>\n",
       "</div>"
      ],
      "text/plain": [
       "        Actual  Prediction  Delta\n",
       "137625   138.0       150.0   12.0\n",
       "23237    314.0       351.0   37.0\n",
       "303173    81.0        63.0  -18.0\n",
       "125007    30.0        22.0   -8.0\n",
       "217589    28.0        41.0   13.0"
      ]
     },
     "execution_count": 7,
     "metadata": {},
     "output_type": "execute_result"
    }
   ],
   "source": [
    "dt_pred = model.predict(X_test)\n",
    "pred = pd.DataFrame({'Actual':y_test, 'Prediction': dt_pred, 'Delta':round(model.predict(X_test)-y_test,2)})\n",
    "pred.sample(5, random_state=42)"
   ]
  },
  {
   "cell_type": "markdown",
   "id": "862242fe",
   "metadata": {},
   "source": [
    "The accuracy with this model is still high, although it's a bit lower than the Linear Regression. <br>Let's now deep dive a bit more on detail and learn about the importance of each feature in the correlations:"
   ]
  },
  {
   "cell_type": "markdown",
   "id": "38384007",
   "metadata": {},
   "source": [
    "## - Random Forest"
   ]
  },
  {
   "cell_type": "code",
   "execution_count": 8,
   "id": "59d3e4d4",
   "metadata": {
    "ExecuteTime": {
     "end_time": "2022-03-23T11:27:08.728991Z",
     "start_time": "2022-03-23T11:27:08.712Z"
    }
   },
   "outputs": [
    {
     "name": "stdout",
     "output_type": "stream",
     "text": [
      "Mean Absolute Error: 9.3 ArrDelay minutes.\n"
     ]
    }
   ],
   "source": [
    "#6-Train model\n",
    "from sklearn.ensemble import RandomForestRegressor\n",
    "# Instantiate model with 1000 decision trees\n",
    "rf = RandomForestRegressor(n_estimators = 100, random_state = 42)\n",
    "# Train the model on training data\n",
    "rf.fit(X_train, y_train);\n",
    "\n",
    "#7-Make predictions on the test set\n",
    "# Use the forest's predict method on the test data\n",
    "predictions = rf.predict(X_test)\n",
    "# Calculate the absolute errors\n",
    "errors = abs(predictions - y_test)\n",
    "# Print out the mean absolute error (mae)\n",
    "print('Mean Absolute Error:', round(np.mean(errors), 2), 'ArrDelay minutes.')\n",
    "\n",
    "rf_pred=predictions"
   ]
  },
  {
   "cell_type": "code",
   "execution_count": 9,
   "id": "b83abda7",
   "metadata": {
    "ExecuteTime": {
     "end_time": "2022-03-23T11:27:08.731009Z",
     "start_time": "2022-03-23T11:27:08.713Z"
    }
   },
   "outputs": [
    {
     "data": {
      "text/html": [
       "<div>\n",
       "<style scoped>\n",
       "    .dataframe tbody tr th:only-of-type {\n",
       "        vertical-align: middle;\n",
       "    }\n",
       "\n",
       "    .dataframe tbody tr th {\n",
       "        vertical-align: top;\n",
       "    }\n",
       "\n",
       "    .dataframe thead th {\n",
       "        text-align: right;\n",
       "    }\n",
       "</style>\n",
       "<table border=\"1\" class=\"dataframe\">\n",
       "  <thead>\n",
       "    <tr style=\"text-align: right;\">\n",
       "      <th></th>\n",
       "      <th>Actual</th>\n",
       "      <th>Prediction</th>\n",
       "      <th>Delta</th>\n",
       "    </tr>\n",
       "  </thead>\n",
       "  <tbody>\n",
       "    <tr>\n",
       "      <th>137625</th>\n",
       "      <td>138.0</td>\n",
       "      <td>150.0</td>\n",
       "      <td>12.0</td>\n",
       "    </tr>\n",
       "    <tr>\n",
       "      <th>23237</th>\n",
       "      <td>314.0</td>\n",
       "      <td>351.0</td>\n",
       "      <td>37.0</td>\n",
       "    </tr>\n",
       "    <tr>\n",
       "      <th>303173</th>\n",
       "      <td>81.0</td>\n",
       "      <td>63.0</td>\n",
       "      <td>-18.0</td>\n",
       "    </tr>\n",
       "    <tr>\n",
       "      <th>125007</th>\n",
       "      <td>30.0</td>\n",
       "      <td>22.0</td>\n",
       "      <td>-8.0</td>\n",
       "    </tr>\n",
       "    <tr>\n",
       "      <th>217589</th>\n",
       "      <td>28.0</td>\n",
       "      <td>41.0</td>\n",
       "      <td>13.0</td>\n",
       "    </tr>\n",
       "  </tbody>\n",
       "</table>\n",
       "</div>"
      ],
      "text/plain": [
       "        Actual  Prediction  Delta\n",
       "137625   138.0       150.0   12.0\n",
       "23237    314.0       351.0   37.0\n",
       "303173    81.0        63.0  -18.0\n",
       "125007    30.0        22.0   -8.0\n",
       "217589    28.0        41.0   13.0"
      ]
     },
     "execution_count": 9,
     "metadata": {},
     "output_type": "execute_result"
    }
   ],
   "source": [
    "pred = pd.DataFrame({'Actual':y_test, 'Prediction':model.predict(X_test), \n",
    "                     'Delta':round(model.predict(X_test)-y_test,2)})\n",
    "pred.sample(5, random_state=42)"
   ]
  },
  {
   "cell_type": "code",
   "execution_count": 10,
   "id": "b33051fd",
   "metadata": {
    "ExecuteTime": {
     "end_time": "2022-03-23T11:27:08.731982Z",
     "start_time": "2022-03-23T11:27:08.715Z"
    }
   },
   "outputs": [
    {
     "name": "stdout",
     "output_type": "stream",
     "text": [
      "Accuracy of model:  0.9679214588020579\n"
     ]
    }
   ],
   "source": [
    "print(\"Accuracy of model: \",predictions.mean()/y_test.mean())"
   ]
  },
  {
   "cell_type": "markdown",
   "id": "848b31a1",
   "metadata": {},
   "source": [
    "Technically the model with better performance is the Random Forest with a 99% of accuracy. However, we can stil compare the models in a different way. "
   ]
  },
  {
   "cell_type": "markdown",
   "id": "3b30286b",
   "metadata": {},
   "source": [
    "## - Exercici 2\n",
    "Compara’ls en base al MSE i al R2 .\n",
    "### - Linear Regression"
   ]
  },
  {
   "cell_type": "code",
   "execution_count": 11,
   "id": "0c1815d2",
   "metadata": {
    "ExecuteTime": {
     "end_time": "2022-03-23T11:27:08.732980Z",
     "start_time": "2022-03-23T11:27:08.717Z"
    }
   },
   "outputs": [
    {
     "name": "stdout",
     "output_type": "stream",
     "text": [
      "Mean Absolute Error: 50.41\n",
      "Mean Squared Error: 6064.24\n",
      "Root Mean Squared Error: 77.87\n"
     ]
    }
   ],
   "source": [
    "from sklearn import metrics\n",
    "print('Mean Absolute Error:', round(metrics.mean_absolute_error(y_test, lr_pred),2))\n",
    "print('Mean Squared Error:', round(metrics.mean_squared_error(y_test, lr_pred),2))\n",
    "print('Root Mean Squared Error:', round(np.sqrt(metrics.mean_squared_error(y_test, lr_pred)),2))"
   ]
  },
  {
   "cell_type": "markdown",
   "id": "9199e610",
   "metadata": {},
   "source": [
    "### - Decision Tree"
   ]
  },
  {
   "cell_type": "code",
   "execution_count": 12,
   "id": "f20250fd",
   "metadata": {
    "ExecuteTime": {
     "end_time": "2022-03-23T11:27:08.862287Z",
     "start_time": "2022-03-23T11:27:08.847157Z"
    }
   },
   "outputs": [
    {
     "name": "stdout",
     "output_type": "stream",
     "text": [
      "Mean Absolute Error: 14.1\n",
      "Mean Squared Error: 487.6\n",
      "Root Mean Squared Error: 22.08\n"
     ]
    }
   ],
   "source": [
    "print('Mean Absolute Error:', round(metrics.mean_absolute_error(y_test, dt_pred),2))\n",
    "print('Mean Squared Error:', round(metrics.mean_squared_error(y_test, dt_pred),2))\n",
    "print('Root Mean Squared Error:', round(np.sqrt(metrics.mean_squared_error(y_test, dt_pred)),2))"
   ]
  },
  {
   "cell_type": "markdown",
   "id": "c2a2c87b",
   "metadata": {},
   "source": [
    "### - Random Forest"
   ]
  },
  {
   "cell_type": "code",
   "execution_count": 13,
   "id": "a9e0f70e",
   "metadata": {
    "ExecuteTime": {
     "end_time": "2022-03-23T11:27:08.878300Z",
     "start_time": "2022-03-23T11:27:08.864285Z"
    }
   },
   "outputs": [
    {
     "name": "stdout",
     "output_type": "stream",
     "text": [
      "Mean Absolute Error: 9.3\n",
      "Mean Squared Error: 239.51\n",
      "Root Mean Squared Error: 15.48\n"
     ]
    }
   ],
   "source": [
    "print('Mean Absolute Error:', round(metrics.mean_absolute_error(y_test, rf_pred),2))\n",
    "print('Mean Squared Error:', round(metrics.mean_squared_error(y_test, rf_pred),2))\n",
    "print('Root Mean Squared Error:', round(np.sqrt(metrics.mean_squared_error(y_test, rf_pred)),2))"
   ]
  },
  {
   "cell_type": "markdown",
   "id": "64942cfd",
   "metadata": {},
   "source": [
    "## - Exercici 3\n",
    "Entrena’ls utilitzant els diferents paràmetres que admeten.\n",
    "\n",
    "### - Linear Regression\n",
    "We'll change the parameter 'fit_intercept' to False so it doesn't get the intercept for this model. "
   ]
  },
  {
   "cell_type": "code",
   "execution_count": 14,
   "id": "d0992e9f",
   "metadata": {
    "ExecuteTime": {
     "end_time": "2022-03-23T11:27:08.909457Z",
     "start_time": "2022-03-23T11:27:08.880186Z"
    }
   },
   "outputs": [
    {
     "name": "stdout",
     "output_type": "stream",
     "text": [
      "Score test/score train:  0.3823597003985769 0.4223477580840651\n"
     ]
    },
    {
     "data": {
      "text/plain": [
       "0.0"
      ]
     },
     "execution_count": 14,
     "metadata": {},
     "output_type": "execute_result"
    }
   ],
   "source": [
    "model = LinearRegression(fit_intercept = False)      #main change\n",
    "model.fit(X_train, y_train)\n",
    "score_test = model.score(X_test, y_test)\n",
    "score_train = model.score(X_train, y_train)\n",
    "print(\"Score test/score train: \", score_test,score_train)\n",
    "model.intercept_"
   ]
  },
  {
   "cell_type": "code",
   "execution_count": 15,
   "id": "550beece",
   "metadata": {
    "ExecuteTime": {
     "end_time": "2022-03-23T11:27:08.924818Z",
     "start_time": "2022-03-23T11:27:08.910965Z"
    }
   },
   "outputs": [
    {
     "data": {
      "text/html": [
       "<div>\n",
       "<style scoped>\n",
       "    .dataframe tbody tr th:only-of-type {\n",
       "        vertical-align: middle;\n",
       "    }\n",
       "\n",
       "    .dataframe tbody tr th {\n",
       "        vertical-align: top;\n",
       "    }\n",
       "\n",
       "    .dataframe thead th {\n",
       "        text-align: right;\n",
       "    }\n",
       "</style>\n",
       "<table border=\"1\" class=\"dataframe\">\n",
       "  <thead>\n",
       "    <tr style=\"text-align: right;\">\n",
       "      <th></th>\n",
       "      <th>Actual</th>\n",
       "      <th>Predicted</th>\n",
       "    </tr>\n",
       "  </thead>\n",
       "  <tbody>\n",
       "    <tr>\n",
       "      <th>137625</th>\n",
       "      <td>138.0</td>\n",
       "      <td>100.710584</td>\n",
       "    </tr>\n",
       "    <tr>\n",
       "      <th>23237</th>\n",
       "      <td>314.0</td>\n",
       "      <td>282.859008</td>\n",
       "    </tr>\n",
       "    <tr>\n",
       "      <th>303173</th>\n",
       "      <td>81.0</td>\n",
       "      <td>39.361834</td>\n",
       "    </tr>\n",
       "    <tr>\n",
       "      <th>125007</th>\n",
       "      <td>30.0</td>\n",
       "      <td>-9.780707</td>\n",
       "    </tr>\n",
       "    <tr>\n",
       "      <th>217589</th>\n",
       "      <td>28.0</td>\n",
       "      <td>-13.447009</td>\n",
       "    </tr>\n",
       "  </tbody>\n",
       "</table>\n",
       "</div>"
      ],
      "text/plain": [
       "        Actual   Predicted\n",
       "137625   138.0  100.710584\n",
       "23237    314.0  282.859008\n",
       "303173    81.0   39.361834\n",
       "125007    30.0   -9.780707\n",
       "217589    28.0  -13.447009"
      ]
     },
     "execution_count": 15,
     "metadata": {},
     "output_type": "execute_result"
    }
   ],
   "source": [
    "#Predicting with new values\n",
    "lr_pred2 = model.predict(X_test)\n",
    "pd.DataFrame({'Actual':y_test, 'Predicted':lr_pred2}).sample(5, random_state=42)"
   ]
  },
  {
   "cell_type": "code",
   "execution_count": 16,
   "id": "2f2b33c5",
   "metadata": {
    "ExecuteTime": {
     "end_time": "2022-03-23T11:27:08.940833Z",
     "start_time": "2022-03-23T11:27:08.926813Z"
    }
   },
   "outputs": [
    {
     "name": "stdout",
     "output_type": "stream",
     "text": [
      "Old Mean Absolute Error: 50.41235711575513\n",
      "Old Mean Squared Error: 6064.238147416372\n",
      "Old Root Mean Squared Error: 77.87321842210179\n",
      "\n",
      "New Mean Absolute Error: 42.66242675791285\n",
      "New Mean Squared Error: 1896.487054699384\n",
      "New Root Mean Squared Error: 43.54867454583875\n"
     ]
    }
   ],
   "source": [
    "print('Old Mean Absolute Error:', metrics.mean_absolute_error(y_test, lr_pred))\n",
    "print('Old Mean Squared Error:', metrics.mean_squared_error(y_test, lr_pred))\n",
    "print('Old Root Mean Squared Error:', np.sqrt(metrics.mean_squared_error(y_test, lr_pred)))\n",
    "print(\"\")\n",
    "print('New Mean Absolute Error:', metrics.mean_absolute_error(y_test, lr_pred2))\n",
    "print('New Mean Squared Error:', metrics.mean_squared_error(y_test, lr_pred2))\n",
    "print('New Root Mean Squared Error:', np.sqrt(metrics.mean_squared_error(y_test, lr_pred2)))"
   ]
  },
  {
   "cell_type": "markdown",
   "id": "12874eac",
   "metadata": {},
   "source": [
    "We can clearly see that the model's accuracy is worse now with the intercept not getting implemented. However the error means have been reduced a little.\n",
    "### - Decision Tree"
   ]
  },
  {
   "cell_type": "markdown",
   "id": "154a47b6",
   "metadata": {},
   "source": [
    "Changing <b>max_depth</b> (range 1-50) and assessing its impact on the MAE of train and test sets:"
   ]
  },
  {
   "cell_type": "code",
   "execution_count": 17,
   "id": "30cfef34",
   "metadata": {
    "ExecuteTime": {
     "end_time": "2022-03-23T11:27:25.598906Z",
     "start_time": "2022-03-23T11:27:08.942041Z"
    }
   },
   "outputs": [
    {
     "data": {
      "image/png": "[encoded data removed]",
      "text/plain": [
       "<Figure size 432x288 with 1 Axes>"
      ]
     },
     "metadata": {
      "needs_background": "light"
     },
     "output_type": "display_data"
    }
   ],
   "source": [
    "max_depths = np.linspace(1, 50, 50, endpoint=True)\n",
    "train_results = []\n",
    "test_results = []\n",
    "test_results_dt_pred = []\n",
    "\n",
    "for max_depth in max_depths:\n",
    "    dt = DecisionTreeRegressor(max_depth=max_depth)     #main change\n",
    "    dt.fit(X_train, y_train)\n",
    "    train_pred = dt.predict(X_train)\n",
    "    \n",
    "    train_results.append(metrics.mean_absolute_error(y_train, train_pred))\n",
    "    y_pred = dt.predict(X_test)\n",
    "    test_results.append(metrics.mean_absolute_error(y_test, y_pred))\n",
    "    test_results_dt_pred.append(metrics.mean_absolute_error(y_test, dt_pred))\n",
    "\n",
    "from matplotlib.legend_handler import HandlerLine2D\n",
    "line1, = plt.plot(max_depths, train_results, 'b', label='Train MAE')\n",
    "line2, = plt.plot(max_depths, test_results, 'r', label='New Test MAE')\n",
    "line3, = plt.plot(max_depths, test_results_dt_pred, 'g', label='Old Test MAE')\n",
    "plt.legend(handler_map={line1: HandlerLine2D(numpoints=2)})\n",
    "plt.ylabel('MAE score')\n",
    "plt.xlabel('Tree depth')\n",
    "plt.show()"
   ]
  },
  {
   "cell_type": "markdown",
   "id": "773f463b",
   "metadata": {},
   "source": [
    "Changing <b>min_samples_split</b> (range 0.1-1) and assessing its impact on the MAE of train and test sets:"
   ]
  },
  {
   "cell_type": "code",
   "execution_count": 18,
   "id": "193e0f49",
   "metadata": {
    "ExecuteTime": {
     "end_time": "2022-03-23T11:27:27.085494Z",
     "start_time": "2022-03-23T11:27:25.599904Z"
    }
   },
   "outputs": [
    {
     "name": "stdout",
     "output_type": "stream",
     "text": [
      "[0.1 0.2 0.3 0.4 0.5 0.6 0.7 0.8 0.9 1. ]\n"
     ]
    },
    {
     "data": {
      "image/png": "[encoded data removed]",
      "text/plain": [
       "<Figure size 432x288 with 1 Axes>"
      ]
     },
     "metadata": {
      "needs_background": "light"
     },
     "output_type": "display_data"
    }
   ],
   "source": [
    "min_samples_splits = np.linspace(0.1, 1.0, 10, endpoint=True)\n",
    "print(min_samples_splits)\n",
    "train_results = []\n",
    "test_results = []\n",
    "test_results_dt_pred = []\n",
    "\n",
    "for min_samples_split in min_samples_splits:\n",
    "    dt = DecisionTreeRegressor(min_samples_split=min_samples_split)\n",
    "    dt.fit(X_train, y_train)\n",
    "    \n",
    "    train_results.append(metrics.mean_absolute_error(y_train, train_pred))\n",
    "    y_pred = dt.predict(X_test)\n",
    "    test_results.append(metrics.mean_absolute_error(y_test, y_pred))\n",
    "    test_results_dt_pred.append(metrics.mean_absolute_error(y_test, dt_pred))\n",
    "    \n",
    "from matplotlib.legend_handler import HandlerLine2D\n",
    "\n",
    "line1, = plt.plot(min_samples_splits, train_results, 'b', label='Train MAE')\n",
    "line2, = plt.plot(min_samples_splits, test_results, 'r', label='New Test MAE')\n",
    "line3, = plt.plot(min_samples_splits, test_results_dt_pred, 'g', label='Old Test MAE')\n",
    "plt.legend(handler_map={line1: HandlerLine2D(numpoints=2)})\n",
    "plt.ylabel('MAE score')\n",
    "plt.xlabel('min samples split')\n",
    "plt.show()"
   ]
  },
  {
   "cell_type": "markdown",
   "id": "28565ed5",
   "metadata": {},
   "source": [
    "Changing the <b>min_samples_leaf</b> parameter range to 0.01-0.5 and assessing its impact on the MAE of train and test sets:"
   ]
  },
  {
   "cell_type": "code",
   "execution_count": 19,
   "id": "e30a0628",
   "metadata": {
    "ExecuteTime": {
     "end_time": "2022-03-23T11:27:29.130909Z",
     "start_time": "2022-03-23T11:27:27.086521Z"
    }
   },
   "outputs": [
    {
     "name": "stdout",
     "output_type": "stream",
     "text": [
      "[0.001      0.02726316 0.05352632 0.07978947 0.10605263 0.13231579\n",
      " 0.15857895 0.18484211 0.21110526 0.23736842 0.26363158 0.28989474\n",
      " 0.31615789 0.34242105 0.36868421 0.39494737 0.42121053 0.44747368\n",
      " 0.47373684 0.5       ]\n"
     ]
    },
    {
     "data": {
      "image/png": "[encoded data removed]",
      "text/plain": [
       "<Figure size 432x288 with 1 Axes>"
      ]
     },
     "metadata": {
      "needs_background": "light"
     },
     "output_type": "display_data"
    }
   ],
   "source": [
    "min_samples_leafs = np.linspace(0.001, 0.5, 20, endpoint=True)\n",
    "\n",
    "print(min_samples_leafs)\n",
    "train_results = []\n",
    "test_results = []\n",
    "test_results_dt_pred = []\n",
    "\n",
    "for min_samples_leaf in min_samples_leafs:\n",
    "    dt = DecisionTreeRegressor(min_samples_leaf=min_samples_leaf)\n",
    "    dt.fit(X_train, y_train)\n",
    "    \n",
    "    train_results.append(metrics.mean_absolute_error(y_train, train_pred))\n",
    "    y_pred = dt.predict(X_test)\n",
    "    test_results.append(metrics.mean_absolute_error(y_test, y_pred))\n",
    "    test_results_dt_pred.append(metrics.mean_absolute_error(y_test, dt_pred))\n",
    "    \n",
    "from matplotlib.legend_handler import HandlerLine2D\n",
    "\n",
    "line1, = plt.plot(min_samples_leafs, train_results, 'b', label='Train MAE')\n",
    "line2, = plt.plot(min_samples_leafs, test_results, 'r', label='New Test MAE')\n",
    "line3, = plt.plot(min_samples_leafs, test_results_dt_pred, 'g', label='Old Test MAE')\n",
    "plt.legend(handler_map={line1: HandlerLine2D(numpoints=2)})\n",
    "plt.ylabel('MAE score')\n",
    "plt.xlabel('min samples leaf')\n",
    "plt.show()"
   ]
  },
  {
   "cell_type": "markdown",
   "id": "89092998",
   "metadata": {},
   "source": [
    "Trying one last thing to improve the model which is setting the <b>max_depth</b> parameter to 15 and leaving <b>min_samples_leaf</b> and <b>min_samples_split</b> by default. "
   ]
  },
  {
   "cell_type": "code",
   "execution_count": 20,
   "id": "c14a1d56",
   "metadata": {
    "ExecuteTime": {
     "end_time": "2022-03-23T11:27:29.474615Z",
     "start_time": "2022-03-23T11:27:29.132034Z"
    }
   },
   "outputs": [
    {
     "name": "stdout",
     "output_type": "stream",
     "text": [
      "Old Mean Absolute Error: 14.101333333333333\n",
      "Old Mean Squared Error: 487.60266666666666\n",
      "Old Root Mean Squared Error: 22.08172698560207\n",
      "\n",
      "New Mean Absolute Error: 13.60453006565216\n",
      "New Mean Squared Error: 467.0010693557732\n",
      "New Root Mean Squared Error: 21.61020752690203\n"
     ]
    }
   ],
   "source": [
    "regressor = DecisionTreeRegressor(max_depth = 15, random_state=0)\n",
    "regressor.fit(X_train,y_train)\n",
    "\n",
    "dt_pred2 = regressor.predict(X_test)\n",
    "print('Old Mean Absolute Error:', metrics.mean_absolute_error(y_test, dt_pred))\n",
    "print('Old Mean Squared Error:', metrics.mean_squared_error(y_test, dt_pred))\n",
    "print('Old Root Mean Squared Error:', np.sqrt(metrics.mean_squared_error(y_test, dt_pred)))\n",
    "print(\"\")\n",
    "print('New Mean Absolute Error:', metrics.mean_absolute_error(y_test, dt_pred2))\n",
    "print('New Mean Squared Error:', metrics.mean_squared_error(y_test, dt_pred2))\n",
    "print('New Root Mean Squared Error:', np.sqrt(metrics.mean_squared_error(y_test, dt_pred2)))"
   ]
  },
  {
   "cell_type": "markdown",
   "id": "94cb4595",
   "metadata": {},
   "source": [
    "### - Random Forest\n",
    "Let's now assess how changing the <b>N-estimators</b> value affect the MAE of train and test:"
   ]
  },
  {
   "cell_type": "code",
   "execution_count": 21,
   "id": "eac46759",
   "metadata": {
    "ExecuteTime": {
     "end_time": "2022-03-23T11:27:52.010983Z",
     "start_time": "2022-03-23T11:27:29.476608Z"
    }
   },
   "outputs": [
    {
     "name": "stdout",
     "output_type": "stream",
     "text": [
      "[1, 2, 4, 8, 16, 32, 64, 100, 200]\n"
     ]
    },
    {
     "data": {
      "image/png": "[encoded data removed]",
      "text/plain": [
       "<Figure size 432x288 with 1 Axes>"
      ]
     },
     "metadata": {
      "needs_background": "light"
     },
     "output_type": "display_data"
    }
   ],
   "source": [
    "n_estimators = [1, 2, 4, 8, 16, 32, 64, 100, 200]\n",
    "\n",
    "print(n_estimators)\n",
    "train_results = []\n",
    "test_results = []\n",
    "test_results_dt_pred = []\n",
    "\n",
    "for estimator in n_estimators:\n",
    "    dt = RandomForestRegressor(n_estimators=estimator, n_jobs=-1)           #main change\n",
    "    dt.fit(X_train, y_train)\n",
    "    \n",
    "    train_results.append(metrics.mean_absolute_error(y_train, train_pred))\n",
    "    y_pred = dt.predict(X_test)\n",
    "    test_results.append(metrics.mean_absolute_error(y_test, y_pred))\n",
    "    test_results_dt_pred.append(metrics.mean_absolute_error(y_test, dt_pred))\n",
    "    \n",
    "    \n",
    "from matplotlib.legend_handler import HandlerLine2D\n",
    "\n",
    "line1, = plt.plot(n_estimators, train_results, 'b', label='Train MAE')\n",
    "line2, = plt.plot(n_estimators, test_results, 'r', label='New Test MAE')\n",
    "line3, = plt.plot(n_estimators, test_results_dt_pred, 'g', label='Old Test MAE')\n",
    "plt.legend(handler_map={line1: HandlerLine2D(numpoints=2)})\n",
    "plt.ylabel('MAE score')\n",
    "plt.xlabel('n_estimators')\n",
    "plt.show()"
   ]
  },
  {
   "cell_type": "code",
   "execution_count": 22,
   "id": "d2e7d603",
   "metadata": {
    "ExecuteTime": {
     "end_time": "2022-03-23T11:28:03.028009Z",
     "start_time": "2022-03-23T11:27:52.011932Z"
    }
   },
   "outputs": [
    {
     "name": "stdout",
     "output_type": "stream",
     "text": [
      "Old Mean Absolute Error: 9.302466666666668\n",
      "Old Mean Squared Error: 239.51440026666666\n",
      "Old Root Mean Squared Error: 15.47625278504673\n",
      "\n",
      "New Mean Absolute Error: 9.29652\n",
      "New Mean Squared Error: 240.2367589\n",
      "New Root Mean Squared Error: 15.49957286185655\n"
     ]
    }
   ],
   "source": [
    "model = RandomForestRegressor(n_estimators=estimator, n_jobs=-1)           #main change\n",
    "model.fit(X_train,y_train)\n",
    "\n",
    "rf_pred2 = model.predict(X_test)\n",
    "print('Old Mean Absolute Error:', metrics.mean_absolute_error(y_test, rf_pred))\n",
    "print('Old Mean Squared Error:', metrics.mean_squared_error(y_test, rf_pred))\n",
    "print('Old Root Mean Squared Error:', np.sqrt(metrics.mean_squared_error(y_test, rf_pred)))\n",
    "print(\"\")\n",
    "print('New Mean Absolute Error:', metrics.mean_absolute_error(y_test, rf_pred2))\n",
    "print('New Mean Squared Error:', metrics.mean_squared_error(y_test, rf_pred2))\n",
    "print('New Root Mean Squared Error:', np.sqrt(metrics.mean_squared_error(y_test, rf_pred2)))"
   ]
  },
  {
   "cell_type": "markdown",
   "id": "94a83b4f",
   "metadata": {},
   "source": [
    "We can observe how the application of new N-estimators is helping the model in getting better results, at least in terms of Mean Absolute Error."
   ]
  },
  {
   "cell_type": "markdown",
   "id": "b51bb481",
   "metadata": {},
   "source": [
    "## - Exercici 4\n",
    "Compara el seu rendiment utilitzant l’aproximació traint/test o utilitzant totes les dades (validació interna).\n",
    "\n",
    "### - Linear Regression"
   ]
  },
  {
   "cell_type": "code",
   "execution_count": 23,
   "id": "b574caec",
   "metadata": {
    "ExecuteTime": {
     "end_time": "2022-03-23T11:28:03.075966Z",
     "start_time": "2022-03-23T11:28:03.030005Z"
    }
   },
   "outputs": [
    {
     "data": {
      "text/plain": [
       "0.9954800153018998"
      ]
     },
     "execution_count": 23,
     "metadata": {},
     "output_type": "execute_result"
    }
   ],
   "source": [
    "clf = LinearRegression(n_jobs=-1)\n",
    "clf.fit(X, y)\n",
    "score = clf.score(X, y)\n",
    "score"
   ]
  },
  {
   "cell_type": "code",
   "execution_count": 24,
   "id": "9dafc2b4",
   "metadata": {
    "ExecuteTime": {
     "end_time": "2022-03-23T11:28:03.091917Z",
     "start_time": "2022-03-23T11:28:03.077931Z"
    }
   },
   "outputs": [
    {
     "name": "stdout",
     "output_type": "stream",
     "text": [
      "[-1.13090241 23.2220172  87.82471775 ...  5.79488133 89.13805282\n",
      " 35.42708778]\n"
     ]
    }
   ],
   "source": [
    "lr_pred_int = clf.predict(X)\n",
    "print(lr_pred_int)"
   ]
  },
  {
   "cell_type": "code",
   "execution_count": 25,
   "id": "a409fc0f",
   "metadata": {
    "ExecuteTime": {
     "end_time": "2022-03-23T11:28:03.106855Z",
     "start_time": "2022-03-23T11:28:03.092975Z"
    }
   },
   "outputs": [
    {
     "data": {
      "text/html": [
       "<div>\n",
       "<style scoped>\n",
       "    .dataframe tbody tr th:only-of-type {\n",
       "        vertical-align: middle;\n",
       "    }\n",
       "\n",
       "    .dataframe tbody tr th {\n",
       "        vertical-align: top;\n",
       "    }\n",
       "\n",
       "    .dataframe thead th {\n",
       "        text-align: right;\n",
       "    }\n",
       "</style>\n",
       "<table border=\"1\" class=\"dataframe\">\n",
       "  <thead>\n",
       "    <tr style=\"text-align: right;\">\n",
       "      <th></th>\n",
       "      <th>Actual</th>\n",
       "      <th>Predicted</th>\n",
       "    </tr>\n",
       "  </thead>\n",
       "  <tbody>\n",
       "    <tr>\n",
       "      <th>104241</th>\n",
       "      <td>0.0</td>\n",
       "      <td>-1.130902</td>\n",
       "    </tr>\n",
       "    <tr>\n",
       "      <th>199676</th>\n",
       "      <td>21.0</td>\n",
       "      <td>23.222017</td>\n",
       "    </tr>\n",
       "    <tr>\n",
       "      <th>140199</th>\n",
       "      <td>84.0</td>\n",
       "      <td>87.824718</td>\n",
       "    </tr>\n",
       "    <tr>\n",
       "      <th>132814</th>\n",
       "      <td>60.0</td>\n",
       "      <td>61.387993</td>\n",
       "    </tr>\n",
       "    <tr>\n",
       "      <th>408697</th>\n",
       "      <td>32.0</td>\n",
       "      <td>22.978002</td>\n",
       "    </tr>\n",
       "  </tbody>\n",
       "</table>\n",
       "</div>"
      ],
      "text/plain": [
       "        Actual  Predicted\n",
       "104241     0.0  -1.130902\n",
       "199676    21.0  23.222017\n",
       "140199    84.0  87.824718\n",
       "132814    60.0  61.387993\n",
       "408697    32.0  22.978002"
      ]
     },
     "execution_count": 25,
     "metadata": {},
     "output_type": "execute_result"
    }
   ],
   "source": [
    "df_pred_int=pd.DataFrame({'Actual':y, 'Predicted':lr_pred_int})\n",
    "df_pred_int.head()"
   ]
  },
  {
   "cell_type": "code",
   "execution_count": 26,
   "id": "24854f6c",
   "metadata": {
    "ExecuteTime": {
     "end_time": "2022-03-23T11:28:03.122811Z",
     "start_time": "2022-03-23T11:28:03.108850Z"
    }
   },
   "outputs": [
    {
     "name": "stdout",
     "output_type": "stream",
     "text": [
      "R2 with train/test split:  0.9949473147976851\n",
      "R2 without it split:  0.9954800153018998\n"
     ]
    }
   ],
   "source": [
    "r_sq3 = clf.score(X, y)\n",
    "print(\"R2 with train/test split: \", r_sq1)\n",
    "print(\"R2 without it split: \", r_sq3)"
   ]
  },
  {
   "cell_type": "markdown",
   "id": "729d12a0",
   "metadata": {},
   "source": [
    "### - Decision Tree"
   ]
  },
  {
   "cell_type": "code",
   "execution_count": 27,
   "id": "01110ffb",
   "metadata": {
    "ExecuteTime": {
     "end_time": "2022-03-23T11:28:03.685048Z",
     "start_time": "2022-03-23T11:28:03.124805Z"
    }
   },
   "outputs": [
    {
     "data": {
      "text/plain": [
       "0.9960346969728479"
      ]
     },
     "execution_count": 27,
     "metadata": {},
     "output_type": "execute_result"
    }
   ],
   "source": [
    "regressor = DecisionTreeRegressor(max_depth = 15, random_state=0)\n",
    "regressor.fit(X,y)\n",
    "regressor.score(X,y)"
   ]
  },
  {
   "cell_type": "code",
   "execution_count": 28,
   "id": "f29d2622",
   "metadata": {
    "ExecuteTime": {
     "end_time": "2022-03-23T11:28:03.716043Z",
     "start_time": "2022-03-23T11:28:03.686708Z"
    }
   },
   "outputs": [
    {
     "data": {
      "text/html": [
       "<div>\n",
       "<style scoped>\n",
       "    .dataframe tbody tr th:only-of-type {\n",
       "        vertical-align: middle;\n",
       "    }\n",
       "\n",
       "    .dataframe tbody tr th {\n",
       "        vertical-align: top;\n",
       "    }\n",
       "\n",
       "    .dataframe thead th {\n",
       "        text-align: right;\n",
       "    }\n",
       "</style>\n",
       "<table border=\"1\" class=\"dataframe\">\n",
       "  <thead>\n",
       "    <tr style=\"text-align: right;\">\n",
       "      <th></th>\n",
       "      <th>Actual</th>\n",
       "      <th>Predicted</th>\n",
       "    </tr>\n",
       "  </thead>\n",
       "  <tbody>\n",
       "    <tr>\n",
       "      <th>104241</th>\n",
       "      <td>0.0</td>\n",
       "      <td>-1.130902</td>\n",
       "    </tr>\n",
       "    <tr>\n",
       "      <th>199676</th>\n",
       "      <td>21.0</td>\n",
       "      <td>23.222017</td>\n",
       "    </tr>\n",
       "    <tr>\n",
       "      <th>140199</th>\n",
       "      <td>84.0</td>\n",
       "      <td>87.824718</td>\n",
       "    </tr>\n",
       "    <tr>\n",
       "      <th>132814</th>\n",
       "      <td>60.0</td>\n",
       "      <td>61.387993</td>\n",
       "    </tr>\n",
       "    <tr>\n",
       "      <th>408697</th>\n",
       "      <td>32.0</td>\n",
       "      <td>22.978002</td>\n",
       "    </tr>\n",
       "  </tbody>\n",
       "</table>\n",
       "</div>"
      ],
      "text/plain": [
       "        Actual  Predicted\n",
       "104241     0.0  -1.130902\n",
       "199676    21.0  23.222017\n",
       "140199    84.0  87.824718\n",
       "132814    60.0  61.387993\n",
       "408697    32.0  22.978002"
      ]
     },
     "execution_count": 28,
     "metadata": {},
     "output_type": "execute_result"
    }
   ],
   "source": [
    "dt_pred_int = regressor.predict(X)\n",
    "dt_pred_int = pd.DataFrame({'Actual':y, 'Predicted':dt_pred_int})\n",
    "df_pred_int.head()"
   ]
  },
  {
   "cell_type": "code",
   "execution_count": 29,
   "id": "4bba4983",
   "metadata": {
    "ExecuteTime": {
     "end_time": "2022-03-23T11:28:03.731470Z",
     "start_time": "2022-03-23T11:28:03.717197Z"
    }
   },
   "outputs": [
    {
     "name": "stdout",
     "output_type": "stream",
     "text": [
      "R2 with train/test split:  0.8411995186678505\n",
      "R2 without split:  0.9960346969728479\n"
     ]
    }
   ],
   "source": [
    "r_sq4 = regressor.score(X,y)\n",
    "print(\"R2 with train/test split: \", r_sq2)\n",
    "print(\"R2 without split: \", r_sq4)"
   ]
  },
  {
   "cell_type": "markdown",
   "id": "bf3a7fe1",
   "metadata": {},
   "source": [
    "Remarkable difference with intern validation compared to train/test split. It's much higher in the former, but probably due to high overfitting.\n",
    "\n",
    "### - Random Forest"
   ]
  },
  {
   "cell_type": "code",
   "execution_count": 30,
   "id": "60cf8b5a",
   "metadata": {
    "ExecuteTime": {
     "end_time": "2022-03-23T11:28:14.250827Z",
     "start_time": "2022-03-23T11:28:03.733207Z"
    }
   },
   "outputs": [
    {
     "data": {
      "text/html": [
       "<div>\n",
       "<style scoped>\n",
       "    .dataframe tbody tr th:only-of-type {\n",
       "        vertical-align: middle;\n",
       "    }\n",
       "\n",
       "    .dataframe tbody tr th {\n",
       "        vertical-align: top;\n",
       "    }\n",
       "\n",
       "    .dataframe thead th {\n",
       "        text-align: right;\n",
       "    }\n",
       "</style>\n",
       "<table border=\"1\" class=\"dataframe\">\n",
       "  <thead>\n",
       "    <tr style=\"text-align: right;\">\n",
       "      <th></th>\n",
       "      <th>Actual</th>\n",
       "      <th>Predicted</th>\n",
       "    </tr>\n",
       "  </thead>\n",
       "  <tbody>\n",
       "    <tr>\n",
       "      <th>104241</th>\n",
       "      <td>0.0</td>\n",
       "      <td>-1.130902</td>\n",
       "    </tr>\n",
       "    <tr>\n",
       "      <th>199676</th>\n",
       "      <td>21.0</td>\n",
       "      <td>23.222017</td>\n",
       "    </tr>\n",
       "    <tr>\n",
       "      <th>140199</th>\n",
       "      <td>84.0</td>\n",
       "      <td>87.824718</td>\n",
       "    </tr>\n",
       "    <tr>\n",
       "      <th>132814</th>\n",
       "      <td>60.0</td>\n",
       "      <td>61.387993</td>\n",
       "    </tr>\n",
       "    <tr>\n",
       "      <th>408697</th>\n",
       "      <td>32.0</td>\n",
       "      <td>22.978002</td>\n",
       "    </tr>\n",
       "  </tbody>\n",
       "</table>\n",
       "</div>"
      ],
      "text/plain": [
       "        Actual  Predicted\n",
       "104241     0.0  -1.130902\n",
       "199676    21.0  23.222017\n",
       "140199    84.0  87.824718\n",
       "132814    60.0  61.387993\n",
       "408697    32.0  22.978002"
      ]
     },
     "execution_count": 30,
     "metadata": {},
     "output_type": "execute_result"
    }
   ],
   "source": [
    "rf = RandomForestRegressor(n_estimators=30, max_depth=30, random_state=42)\n",
    "rf.fit(X,y)\n",
    "rf_pred_int=rf.predict(X)\n",
    "df_rf_int=pd.DataFrame({'Actual':y, 'Predicted':rf_pred_int})\n",
    "df_pred_int.head()"
   ]
  },
  {
   "cell_type": "code",
   "execution_count": 31,
   "id": "1cb609e5",
   "metadata": {
    "ExecuteTime": {
     "end_time": "2022-03-23T11:28:14.266194Z",
     "start_time": "2022-03-23T11:28:14.252824Z"
    }
   },
   "outputs": [
    {
     "name": "stdout",
     "output_type": "stream",
     "text": [
      "Accuracy with train/test split:  0.9679214588020579\n",
      "Accuracy without split:  0.9993871268072534\n"
     ]
    }
   ],
   "source": [
    "print('Accuracy with train/test split: ', predictions.mean()/y_test.mean())\n",
    "print(\"Accuracy without split: \", rf_pred_int.mean()/y.mean())"
   ]
  },
  {
   "cell_type": "markdown",
   "id": "fd184434",
   "metadata": {},
   "source": [
    "Probably due to overfitting, the accuracy obtained with internal validation is higher and very close to 100%."
   ]
  },
  {
   "cell_type": "markdown",
   "id": "5dd11ac6",
   "metadata": {},
   "source": [
    "### - Exercici 5\n",
    "Realitza algun procés d’enginyeria de variables per millorar-ne la predicció. <br>\n",
    "Since we already applied all the feature engineering we could for the last exercises, we'll generate results without those applications and compare them to each other. <br>To recap the results <b>with</b> feature engineering we have:\n",
    "\n",
    "### - Linear Regression with feature engineering\n",
    "<b>(Dummies + Standarization + PCA)"
   ]
  },
  {
   "cell_type": "code",
   "execution_count": 32,
   "id": "a59e8bba",
   "metadata": {
    "ExecuteTime": {
     "end_time": "2022-03-23T11:28:14.390826Z",
     "start_time": "2022-03-23T11:28:14.267783Z"
    }
   },
   "outputs": [
    {
     "name": "stdout",
     "output_type": "stream",
     "text": [
      "R2 with feature engineering: 0.9949473147976851\n",
      "MAE with feature engineering: 9.3\n",
      "MSE with feature engineering: 240.24\n",
      "RMSE with feature engineering: 15.5\n"
     ]
    }
   ],
   "source": [
    "lr_pred = model.predict(X_test)\n",
    "pred = pd.DataFrame({'Actual':y_test, 'Prediction': lr_pred, 'Delta':round(model.predict(X_test)-y_test,2)})\n",
    "pred.sample(5, random_state=42)\n",
    "print('R2 with feature engineering:', r_sq1)\n",
    "print('MAE with feature engineering:', round(metrics.mean_absolute_error(y_test, lr_pred),2))\n",
    "print('MSE with feature engineering:', round(metrics.mean_squared_error(y_test, lr_pred),2))\n",
    "print('RMSE with feature engineering:', round(np.sqrt(metrics.mean_squared_error(y_test, lr_pred)),2))"
   ]
  },
  {
   "cell_type": "markdown",
   "id": "45c40167",
   "metadata": {},
   "source": [
    "### - Linear Regression without feature engineering"
   ]
  },
  {
   "cell_type": "code",
   "execution_count": 33,
   "id": "a01bfd43",
   "metadata": {
    "ExecuteTime": {
     "end_time": "2022-03-23T15:06:00.699628Z",
     "start_time": "2022-03-23T15:05:53.330823Z"
    },
    "scrolled": true
   },
   "outputs": [
    {
     "name": "stdout",
     "output_type": "stream",
     "text": [
      "R2 without feature engineering: 1.0\n",
      "MAE without feature engineering: 0.0\n",
      "MSE without feature engineering: 0.0\n",
      "RMSE without feature engineering: 0.0\n"
     ]
    }
   ],
   "source": [
    "delays = pd.read_csv(r'DelayedFlights.csv')\n",
    "delays.dropna(inplace=True)\n",
    "delays.drop(['Unnamed: 0','Cancelled','Diverted'], axis=1, inplace=True)\n",
    "pd.set_option('max_columns', None)\n",
    "nums = ['int16', 'int32', 'int64', 'float16', 'float32', 'float64']\n",
    "nums = delays.select_dtypes(include=nums).columns\n",
    "delays = delays[nums].sample(5000)\n",
    "\n",
    "#Steps 1 and 2: Import packages and classes, and provide data\n",
    "yo = delays[\"ArrDelay\"]\n",
    "Xo= delays.loc[:, delays.columns != 'ArrDelay']\n",
    "\n",
    "#splitting between test and train\n",
    "Xo_train, Xo_test, yo_train, yo_test = train_test_split(Xo, yo, test_size = 0.3)\n",
    "\n",
    "#Step 3: Create a model and fit it\n",
    "model = LinearRegression().fit(Xo_train, yo_train)\n",
    "\n",
    "#Step 4: Get results\n",
    "ro_sq1 = model.score(Xo_test, yo_test)\n",
    "lro_pred = model.predict(Xo_test)\n",
    "pred = pd.DataFrame({'Actual':yo_test, 'Prediction': lro_pred, 'Delta':round(model.predict(Xo_test)-yo_test,2)})\n",
    "print('R2 without feature engineering:', ro_sq1)\n",
    "print('MAE without feature engineering:', round(metrics.mean_absolute_error(yo_test, lro_pred),2))\n",
    "print('MSE without feature engineering:', round(metrics.mean_squared_error(yo_test, lro_pred),2))\n",
    "print('RMSE without feature engineering:', round(np.sqrt(metrics.mean_squared_error(yo_test, lro_pred)),2))"
   ]
  },
  {
   "cell_type": "markdown",
   "id": "a9a12e01",
   "metadata": {},
   "source": [
    "We can see how this model without feature engineering is giving a perfect accuracy, implying that it has a strong overfitting. "
   ]
  },
  {
   "cell_type": "markdown",
   "id": "f1d31773",
   "metadata": {},
   "source": [
    "## - Exercici 6\n",
    "No utilitzis la variable DepDelay a l’hora de fer prediccions.\n",
    "<br>Let's compare the results with the variable <b>DepDelay</b> and without it:\n",
    "\n",
    "### - Linear Regression with DepDelay"
   ]
  },
  {
   "cell_type": "code",
   "execution_count": 34,
   "id": "468222e8",
   "metadata": {
    "ExecuteTime": {
     "end_time": "2022-03-23T15:06:00.808769Z",
     "start_time": "2022-03-23T15:06:00.701623Z"
    }
   },
   "outputs": [
    {
     "name": "stdout",
     "output_type": "stream",
     "text": [
      "R2 with DepDelay: 1.0\n",
      "MAE with DepDelay: 0.0\n",
      "MSE with DepDelay: 0.0\n",
      "RMSE with DepDelay: 0.0\n"
     ]
    },
    {
     "data": {
      "text/html": [
       "<div>\n",
       "<style scoped>\n",
       "    .dataframe tbody tr th:only-of-type {\n",
       "        vertical-align: middle;\n",
       "    }\n",
       "\n",
       "    .dataframe tbody tr th {\n",
       "        vertical-align: top;\n",
       "    }\n",
       "\n",
       "    .dataframe thead th {\n",
       "        text-align: right;\n",
       "    }\n",
       "</style>\n",
       "<table border=\"1\" class=\"dataframe\">\n",
       "  <thead>\n",
       "    <tr style=\"text-align: right;\">\n",
       "      <th></th>\n",
       "      <th>DepTime</th>\n",
       "      <th>CRSDepTime</th>\n",
       "      <th>ArrTime</th>\n",
       "      <th>CRSArrTime</th>\n",
       "      <th>FlightNum</th>\n",
       "      <th>ActualElapsedTime</th>\n",
       "      <th>CRSElapsedTime</th>\n",
       "      <th>AirTime</th>\n",
       "      <th>DepDelay</th>\n",
       "      <th>Distance</th>\n",
       "      <th>TaxiIn</th>\n",
       "      <th>TaxiOut</th>\n",
       "    </tr>\n",
       "  </thead>\n",
       "  <tbody>\n",
       "    <tr>\n",
       "      <th>504292</th>\n",
       "      <td>-0.571921</td>\n",
       "      <td>-0.798122</td>\n",
       "      <td>-0.292339</td>\n",
       "      <td>-0.678613</td>\n",
       "      <td>0.821329</td>\n",
       "      <td>-0.390061</td>\n",
       "      <td>-0.225692</td>\n",
       "      <td>-0.225790</td>\n",
       "      <td>0.259624</td>\n",
       "      <td>-0.262727</td>\n",
       "      <td>-0.525354</td>\n",
       "      <td>-0.590721</td>\n",
       "    </tr>\n",
       "    <tr>\n",
       "      <th>24638</th>\n",
       "      <td>-0.950536</td>\n",
       "      <td>-1.035522</td>\n",
       "      <td>-0.662539</td>\n",
       "      <td>-1.114462</td>\n",
       "      <td>0.267006</td>\n",
       "      <td>-1.019616</td>\n",
       "      <td>-1.097446</td>\n",
       "      <td>-0.907864</td>\n",
       "      <td>-0.235451</td>\n",
       "      <td>-0.869774</td>\n",
       "      <td>-0.525354</td>\n",
       "      <td>-0.527314</td>\n",
       "    </tr>\n",
       "    <tr>\n",
       "      <th>812538</th>\n",
       "      <td>0.356797</td>\n",
       "      <td>0.341399</td>\n",
       "      <td>0.186337</td>\n",
       "      <td>-0.027019</td>\n",
       "      <td>1.059112</td>\n",
       "      <td>-0.935675</td>\n",
       "      <td>-0.821391</td>\n",
       "      <td>-1.011658</td>\n",
       "      <td>-0.119934</td>\n",
       "      <td>-0.944515</td>\n",
       "      <td>-0.210507</td>\n",
       "      <td>0.170158</td>\n",
       "    </tr>\n",
       "    <tr>\n",
       "      <th>732364</th>\n",
       "      <td>0.886856</td>\n",
       "      <td>1.065469</td>\n",
       "      <td>1.071372</td>\n",
       "      <td>1.228227</td>\n",
       "      <td>-0.440822</td>\n",
       "      <td>0.407375</td>\n",
       "      <td>0.500771</td>\n",
       "      <td>0.649044</td>\n",
       "      <td>-0.565501</td>\n",
       "      <td>0.583128</td>\n",
       "      <td>-0.367931</td>\n",
       "      <td>-0.780941</td>\n",
       "    </tr>\n",
       "    <tr>\n",
       "      <th>685448</th>\n",
       "      <td>-1.179931</td>\n",
       "      <td>-1.379752</td>\n",
       "      <td>-0.855387</td>\n",
       "      <td>-1.410840</td>\n",
       "      <td>-0.396677</td>\n",
       "      <td>-0.306120</td>\n",
       "      <td>-0.094928</td>\n",
       "      <td>-0.166479</td>\n",
       "      <td>0.457654</td>\n",
       "      <td>-0.191632</td>\n",
       "      <td>-0.210507</td>\n",
       "      <td>-0.590721</td>\n",
       "    </tr>\n",
       "  </tbody>\n",
       "</table>\n",
       "</div>"
      ],
      "text/plain": [
       "         DepTime  CRSDepTime   ArrTime  CRSArrTime  FlightNum  \\\n",
       "504292 -0.571921   -0.798122 -0.292339   -0.678613   0.821329   \n",
       "24638  -0.950536   -1.035522 -0.662539   -1.114462   0.267006   \n",
       "812538  0.356797    0.341399  0.186337   -0.027019   1.059112   \n",
       "732364  0.886856    1.065469  1.071372    1.228227  -0.440822   \n",
       "685448 -1.179931   -1.379752 -0.855387   -1.410840  -0.396677   \n",
       "\n",
       "        ActualElapsedTime  CRSElapsedTime   AirTime  DepDelay  Distance  \\\n",
       "504292          -0.390061       -0.225692 -0.225790  0.259624 -0.262727   \n",
       "24638           -1.019616       -1.097446 -0.907864 -0.235451 -0.869774   \n",
       "812538          -0.935675       -0.821391 -1.011658 -0.119934 -0.944515   \n",
       "732364           0.407375        0.500771  0.649044 -0.565501  0.583128   \n",
       "685448          -0.306120       -0.094928 -0.166479  0.457654 -0.191632   \n",
       "\n",
       "          TaxiIn   TaxiOut  \n",
       "504292 -0.525354 -0.590721  \n",
       "24638  -0.525354 -0.527314  \n",
       "812538 -0.210507  0.170158  \n",
       "732364 -0.367931 -0.780941  \n",
       "685448 -0.210507 -0.590721  "
      ]
     },
     "metadata": {},
     "output_type": "display_data"
    },
    {
     "name": "stdout",
     "output_type": "stream",
     "text": [
      "\n",
      "R2 without DepDelay: 0.11381031095903926\n",
      "MAE without DepDelay: 37.72\n",
      "MSE without DepDelay: 4205.75\n",
      "RMSE without DepDelay: 64.85\n"
     ]
    },
    {
     "data": {
      "text/html": [
       "<div>\n",
       "<style scoped>\n",
       "    .dataframe tbody tr th:only-of-type {\n",
       "        vertical-align: middle;\n",
       "    }\n",
       "\n",
       "    .dataframe tbody tr th {\n",
       "        vertical-align: top;\n",
       "    }\n",
       "\n",
       "    .dataframe thead th {\n",
       "        text-align: right;\n",
       "    }\n",
       "</style>\n",
       "<table border=\"1\" class=\"dataframe\">\n",
       "  <thead>\n",
       "    <tr style=\"text-align: right;\">\n",
       "      <th></th>\n",
       "      <th>DepTime</th>\n",
       "      <th>CRSDepTime</th>\n",
       "      <th>ArrTime</th>\n",
       "      <th>CRSArrTime</th>\n",
       "      <th>FlightNum</th>\n",
       "      <th>ActualElapsedTime</th>\n",
       "      <th>CRSElapsedTime</th>\n",
       "      <th>AirTime</th>\n",
       "      <th>Distance</th>\n",
       "      <th>TaxiIn</th>\n",
       "      <th>TaxiOut</th>\n",
       "    </tr>\n",
       "  </thead>\n",
       "  <tbody>\n",
       "    <tr>\n",
       "      <th>504292</th>\n",
       "      <td>-0.571921</td>\n",
       "      <td>-0.798122</td>\n",
       "      <td>-0.292339</td>\n",
       "      <td>-0.678613</td>\n",
       "      <td>0.821329</td>\n",
       "      <td>-0.390061</td>\n",
       "      <td>-0.225692</td>\n",
       "      <td>-0.225790</td>\n",
       "      <td>-0.262727</td>\n",
       "      <td>-0.525354</td>\n",
       "      <td>-0.590721</td>\n",
       "    </tr>\n",
       "    <tr>\n",
       "      <th>24638</th>\n",
       "      <td>-0.950536</td>\n",
       "      <td>-1.035522</td>\n",
       "      <td>-0.662539</td>\n",
       "      <td>-1.114462</td>\n",
       "      <td>0.267006</td>\n",
       "      <td>-1.019616</td>\n",
       "      <td>-1.097446</td>\n",
       "      <td>-0.907864</td>\n",
       "      <td>-0.869774</td>\n",
       "      <td>-0.525354</td>\n",
       "      <td>-0.527314</td>\n",
       "    </tr>\n",
       "    <tr>\n",
       "      <th>812538</th>\n",
       "      <td>0.356797</td>\n",
       "      <td>0.341399</td>\n",
       "      <td>0.186337</td>\n",
       "      <td>-0.027019</td>\n",
       "      <td>1.059112</td>\n",
       "      <td>-0.935675</td>\n",
       "      <td>-0.821391</td>\n",
       "      <td>-1.011658</td>\n",
       "      <td>-0.944515</td>\n",
       "      <td>-0.210507</td>\n",
       "      <td>0.170158</td>\n",
       "    </tr>\n",
       "    <tr>\n",
       "      <th>732364</th>\n",
       "      <td>0.886856</td>\n",
       "      <td>1.065469</td>\n",
       "      <td>1.071372</td>\n",
       "      <td>1.228227</td>\n",
       "      <td>-0.440822</td>\n",
       "      <td>0.407375</td>\n",
       "      <td>0.500771</td>\n",
       "      <td>0.649044</td>\n",
       "      <td>0.583128</td>\n",
       "      <td>-0.367931</td>\n",
       "      <td>-0.780941</td>\n",
       "    </tr>\n",
       "    <tr>\n",
       "      <th>685448</th>\n",
       "      <td>-1.179931</td>\n",
       "      <td>-1.379752</td>\n",
       "      <td>-0.855387</td>\n",
       "      <td>-1.410840</td>\n",
       "      <td>-0.396677</td>\n",
       "      <td>-0.306120</td>\n",
       "      <td>-0.094928</td>\n",
       "      <td>-0.166479</td>\n",
       "      <td>-0.191632</td>\n",
       "      <td>-0.210507</td>\n",
       "      <td>-0.590721</td>\n",
       "    </tr>\n",
       "  </tbody>\n",
       "</table>\n",
       "</div>"
      ],
      "text/plain": [
       "         DepTime  CRSDepTime   ArrTime  CRSArrTime  FlightNum  \\\n",
       "504292 -0.571921   -0.798122 -0.292339   -0.678613   0.821329   \n",
       "24638  -0.950536   -1.035522 -0.662539   -1.114462   0.267006   \n",
       "812538  0.356797    0.341399  0.186337   -0.027019   1.059112   \n",
       "732364  0.886856    1.065469  1.071372    1.228227  -0.440822   \n",
       "685448 -1.179931   -1.379752 -0.855387   -1.410840  -0.396677   \n",
       "\n",
       "        ActualElapsedTime  CRSElapsedTime   AirTime  Distance    TaxiIn  \\\n",
       "504292          -0.390061       -0.225692 -0.225790 -0.262727 -0.525354   \n",
       "24638           -1.019616       -1.097446 -0.907864 -0.869774 -0.525354   \n",
       "812538          -0.935675       -0.821391 -1.011658 -0.944515 -0.210507   \n",
       "732364           0.407375        0.500771  0.649044  0.583128 -0.367931   \n",
       "685448          -0.306120       -0.094928 -0.166479 -0.191632 -0.210507   \n",
       "\n",
       "         TaxiOut  \n",
       "504292 -0.590721  \n",
       "24638  -0.527314  \n",
       "812538  0.170158  \n",
       "732364 -0.780941  \n",
       "685448 -0.590721  "
      ]
     },
     "execution_count": 34,
     "metadata": {},
     "output_type": "execute_result"
    }
   ],
   "source": [
    "from sklearn.preprocessing import StandardScaler\n",
    "\n",
    "#preparing dataframe\n",
    "delays = delays[nums].sample(5000)\n",
    "delays2 = delays.drop(['Year','Month','DayofMonth','DayOfWeek','CarrierDelay', 'WeatherDelay', \n",
    "                       'NASDelay', 'SecurityDelay', 'LateAircraftDelay'], axis=1)\n",
    "\n",
    "#standarizing dataframe\n",
    "ss = StandardScaler()\n",
    "nums = ['int16', 'int32', 'int64', 'float16', 'float32', 'float64']\n",
    "nums = list(delays2.select_dtypes(include=nums).columns)\n",
    "nums.remove(\"ArrDelay\")\n",
    "Xstd = ss.fit_transform(delays2[nums].values)\n",
    "delays2[nums] = Xstd\n",
    "\n",
    "#running model with DepDelay included\n",
    "y = delays2[\"ArrDelay\"]\n",
    "X = delays2.loc[:, delays2.columns != 'ArrDelay']\n",
    "X_train, X_test, y_train, y_test = train_test_split(X, y, test_size = 0.3)\n",
    "model = LinearRegression().fit(X_train, y_train)\n",
    "r_sq1 = model.score(X_test, y_test)\n",
    "lr_pred = model.predict(X_test)\n",
    "pred = pd.DataFrame({'Actual':y_test, 'Prediction': lr_pred})\n",
    "print('R2 with DepDelay:', r_sq1)\n",
    "print('MAE with DepDelay:', round(metrics.mean_absolute_error(y_test, lr_pred),2))\n",
    "print('MSE with DepDelay:', round(metrics.mean_squared_error(y_test, lr_pred),2))\n",
    "print('RMSE with DepDelay:', round(np.sqrt(metrics.mean_squared_error(y_test, lr_pred)),2))\n",
    "display(X.head())\n",
    "\n",
    "#running model without DepDelay\n",
    "delays2 = delays2.drop('DepDelay', axis=1)\n",
    "y = delays2[\"ArrDelay\"]\n",
    "X = delays2.loc[:, delays2.columns != 'ArrDelay']\n",
    "X_train, X_test, y_train, y_test = train_test_split(X, y, test_size = 0.3)\n",
    "model = LinearRegression().fit(X_train, y_train)\n",
    "r_sq1 = model.score(X_test, y_test)\n",
    "lr_pred = model.predict(X_test)\n",
    "pred = pd.DataFrame({'Actual':y_test, 'Prediction': lr_pred})\n",
    "print('\\nR2 without DepDelay:', r_sq1)\n",
    "print('MAE without DepDelay:', round(metrics.mean_absolute_error(y_test, lr_pred),2))\n",
    "print('MSE without DepDelay:', round(metrics.mean_squared_error(y_test, lr_pred),2))\n",
    "print('RMSE without DepDelay:', round(np.sqrt(metrics.mean_squared_error(y_test, lr_pred)),2))\n",
    "\n",
    "X.head()"
   ]
  },
  {
   "cell_type": "markdown",
   "id": "dd3f22bd",
   "metadata": {},
   "source": [
    "After doing the assessment, we can observe a bit difference between using or refusing to use DepDelay: with it the model is perfect, probably due to high overfitting. Without it the coefficient of determination drops below the 12%, and all the Error indicators increase drastically. We can confirm then that DepDelay is an input very important for the model when it comes to predicting the value of the target variable ArrDelay. "
   ]
  }
 ],
 "metadata": {
  "kernelspec": {
   "display_name": "Python 3 (ipykernel)",
   "language": "python",
   "name": "python3"
  },
  "language_info": {
   "codemirror_mode": {
    "name": "ipython",
    "version": 3
   },
   "file_extension": ".py",
   "mimetype": "text/x-python",
   "name": "python",
   "nbconvert_exporter": "python",
   "pygments_lexer": "ipython3",
   "version": "3.9.7"
  }
 },
 "nbformat": 4,
 "nbformat_minor": 5
}
