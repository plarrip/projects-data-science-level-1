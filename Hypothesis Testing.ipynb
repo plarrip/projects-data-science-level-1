{
 "cells": [
  {
   "cell_type": "markdown",
   "id": "34647257",
   "metadata": {},
   "source": [
    "# S07T01: Tasca del test d'hipòtesis\n",
    "Aprèn a realitzar test d'hipòtesis amb Python.\n",
    "## - Exercici 1\n",
    "Agafa un conjunt de dades de tema esportiu que t'agradi i selecciona un atribut del conjunt de dades. Calcula el p-valor i digues si rebutja la hipòtesi nul·la agafant un alfa de 5%. "
   ]
  },
  {
   "cell_type": "markdown",
   "id": "420071d7",
   "metadata": {},
   "source": [
    "<font color='blue'>For this exercise we'll use a dataset called 'fifa22' which gathers data about all the male soccer players in the top professional leagues worldwide. To center the study, we'll focus on the Spanish LaLiga. Let's start by loading the dataframe:"
   ]
  },
  {
   "cell_type": "code",
   "execution_count": 83,
   "id": "b74b7b57",
   "metadata": {
    "ExecuteTime": {
     "end_time": "2022-03-05T18:38:40.573560Z",
     "start_time": "2022-03-05T18:38:40.091799Z"
    }
   },
   "outputs": [
    {
     "name": "stderr",
     "output_type": "stream",
     "text": [
      "C:\\Users\\pacressa\\Anaconda3\\lib\\site-packages\\IPython\\core\\interactiveshell.py:3165: DtypeWarning: Columns (25,108) have mixed types.Specify dtype option on import or set low_memory=False.\n",
      "  has_raised = await self.run_ast_nodes(code_ast.body, cell_name,\n"
     ]
    },
    {
     "data": {
      "text/html": [
       "<div>\n",
       "<style scoped>\n",
       "    .dataframe tbody tr th:only-of-type {\n",
       "        vertical-align: middle;\n",
       "    }\n",
       "\n",
       "    .dataframe tbody tr th {\n",
       "        vertical-align: top;\n",
       "    }\n",
       "\n",
       "    .dataframe thead th {\n",
       "        text-align: right;\n",
       "    }\n",
       "</style>\n",
       "<table border=\"1\" class=\"dataframe\">\n",
       "  <thead>\n",
       "    <tr style=\"text-align: right;\">\n",
       "      <th></th>\n",
       "      <th>sofifa_id</th>\n",
       "      <th>player_url</th>\n",
       "      <th>short_name</th>\n",
       "      <th>long_name</th>\n",
       "      <th>player_positions</th>\n",
       "      <th>overall</th>\n",
       "      <th>potential</th>\n",
       "      <th>value_eur</th>\n",
       "      <th>wage_eur</th>\n",
       "      <th>age</th>\n",
       "      <th>...</th>\n",
       "      <th>lcb</th>\n",
       "      <th>cb</th>\n",
       "      <th>rcb</th>\n",
       "      <th>rb</th>\n",
       "      <th>gk</th>\n",
       "      <th>player_face_url</th>\n",
       "      <th>club_logo_url</th>\n",
       "      <th>club_flag_url</th>\n",
       "      <th>nation_logo_url</th>\n",
       "      <th>nation_flag_url</th>\n",
       "    </tr>\n",
       "  </thead>\n",
       "  <tbody>\n",
       "    <tr>\n",
       "      <th>165</th>\n",
       "      <td>202884</td>\n",
       "      <td>https://sofifa.com/player/202884/leonardo-spin...</td>\n",
       "      <td>L. Spinazzola</td>\n",
       "      <td>Leonardo Spinazzola</td>\n",
       "      <td>LWB, LB, LM</td>\n",
       "      <td>83</td>\n",
       "      <td>83</td>\n",
       "      <td>33000000.0</td>\n",
       "      <td>72000.0</td>\n",
       "      <td>28</td>\n",
       "      <td>...</td>\n",
       "      <td>76+3</td>\n",
       "      <td>76+3</td>\n",
       "      <td>76+3</td>\n",
       "      <td>81+2</td>\n",
       "      <td>21+3</td>\n",
       "      <td>https://cdn.sofifa.net/players/202/884/22_120.png</td>\n",
       "      <td>https://cdn.sofifa.net/teams/52/60.png</td>\n",
       "      <td>https://cdn.sofifa.net/flags/it.png</td>\n",
       "      <td>NaN</td>\n",
       "      <td>https://cdn.sofifa.net/flags/it.png</td>\n",
       "    </tr>\n",
       "  </tbody>\n",
       "</table>\n",
       "<p>1 rows × 110 columns</p>\n",
       "</div>"
      ],
      "text/plain": [
       "     sofifa_id                                         player_url  \\\n",
       "165     202884  https://sofifa.com/player/202884/leonardo-spin...   \n",
       "\n",
       "        short_name            long_name player_positions  overall  potential  \\\n",
       "165  L. Spinazzola  Leonardo Spinazzola      LWB, LB, LM       83         83   \n",
       "\n",
       "      value_eur  wage_eur  age  ...   lcb    cb   rcb    rb    gk  \\\n",
       "165  33000000.0   72000.0   28  ...  76+3  76+3  76+3  81+2  21+3   \n",
       "\n",
       "                                       player_face_url  \\\n",
       "165  https://cdn.sofifa.net/players/202/884/22_120.png   \n",
       "\n",
       "                              club_logo_url  \\\n",
       "165  https://cdn.sofifa.net/teams/52/60.png   \n",
       "\n",
       "                           club_flag_url  nation_logo_url  \\\n",
       "165  https://cdn.sofifa.net/flags/it.png              NaN   \n",
       "\n",
       "                         nation_flag_url  \n",
       "165  https://cdn.sofifa.net/flags/it.png  \n",
       "\n",
       "[1 rows x 110 columns]"
      ]
     },
     "execution_count": 83,
     "metadata": {},
     "output_type": "execute_result"
    }
   ],
   "source": [
    "import pandas as pd\n",
    "import numpy as np\n",
    "import matplotlib.pyplot as plt\n",
    "import seaborn as sns\n",
    "\n",
    "import scipy.stats as st\n",
    "\n",
    "fifa = pd.read_csv(r'fifa22.csv')\n",
    "fifa.sample()"
   ]
  },
  {
   "cell_type": "markdown",
   "id": "aa17c28a",
   "metadata": {},
   "source": [
    "<font color='blue'>Let's simplify a little the dataframe by keeping only relevant attributes and LaLiga players:"
   ]
  },
  {
   "cell_type": "code",
   "execution_count": 84,
   "id": "42858877",
   "metadata": {
    "ExecuteTime": {
     "end_time": "2022-03-05T18:38:40.635308Z",
     "start_time": "2022-03-05T18:38:40.576458Z"
    }
   },
   "outputs": [
    {
     "data": {
      "text/html": [
       "<div>\n",
       "<style scoped>\n",
       "    .dataframe tbody tr th:only-of-type {\n",
       "        vertical-align: middle;\n",
       "    }\n",
       "\n",
       "    .dataframe tbody tr th {\n",
       "        vertical-align: top;\n",
       "    }\n",
       "\n",
       "    .dataframe thead th {\n",
       "        text-align: right;\n",
       "    }\n",
       "</style>\n",
       "<table border=\"1\" class=\"dataframe\">\n",
       "  <thead>\n",
       "    <tr style=\"text-align: right;\">\n",
       "      <th></th>\n",
       "      <th>short_name</th>\n",
       "      <th>player_positions</th>\n",
       "      <th>overall</th>\n",
       "      <th>wage_eur</th>\n",
       "      <th>age</th>\n",
       "      <th>dob</th>\n",
       "      <th>height_cm</th>\n",
       "      <th>weight_kg</th>\n",
       "      <th>club_name</th>\n",
       "      <th>league_name</th>\n",
       "      <th>...</th>\n",
       "      <th>nationality_name</th>\n",
       "      <th>preferred_foot</th>\n",
       "      <th>weak_foot</th>\n",
       "      <th>skill_moves</th>\n",
       "      <th>pace</th>\n",
       "      <th>shooting</th>\n",
       "      <th>passing</th>\n",
       "      <th>dribbling</th>\n",
       "      <th>defending</th>\n",
       "      <th>physic</th>\n",
       "    </tr>\n",
       "  </thead>\n",
       "  <tbody>\n",
       "    <tr>\n",
       "      <th>111</th>\n",
       "      <td>Manu Trigueros</td>\n",
       "      <td>CM, RM, LM</td>\n",
       "      <td>79</td>\n",
       "      <td>39000.0</td>\n",
       "      <td>29</td>\n",
       "      <td>1991-10-17</td>\n",
       "      <td>178</td>\n",
       "      <td>75</td>\n",
       "      <td>Villarreal CF</td>\n",
       "      <td>Spain Primera Division</td>\n",
       "      <td>...</td>\n",
       "      <td>Spain</td>\n",
       "      <td>Right</td>\n",
       "      <td>4</td>\n",
       "      <td>4</td>\n",
       "      <td>56.0</td>\n",
       "      <td>71.0</td>\n",
       "      <td>78.0</td>\n",
       "      <td>78.0</td>\n",
       "      <td>70.0</td>\n",
       "      <td>67.0</td>\n",
       "    </tr>\n",
       "  </tbody>\n",
       "</table>\n",
       "<p>1 rows × 21 columns</p>\n",
       "</div>"
      ],
      "text/plain": [
       "         short_name player_positions  overall  wage_eur  age         dob  \\\n",
       "111  Manu Trigueros       CM, RM, LM       79   39000.0   29  1991-10-17   \n",
       "\n",
       "     height_cm  weight_kg      club_name             league_name  ...  \\\n",
       "111        178         75  Villarreal CF  Spain Primera Division  ...   \n",
       "\n",
       "    nationality_name preferred_foot weak_foot  skill_moves  pace  shooting  \\\n",
       "111            Spain          Right         4            4  56.0      71.0   \n",
       "\n",
       "     passing  dribbling  defending  physic  \n",
       "111     78.0       78.0       70.0    67.0  \n",
       "\n",
       "[1 rows x 21 columns]"
      ]
     },
     "execution_count": 84,
     "metadata": {},
     "output_type": "execute_result"
    }
   ],
   "source": [
    "cols = [\"short_name\", \"player_positions\",\"overall\",\"wage_eur\",\"age\",\"dob\",\"height_cm\",\"weight_kg\",\"club_name\",\n",
    "        \"league_name\",\"nationality_name\",\"preferred_foot\",\"weak_foot\",\"skill_moves\",\"pace\",\"shooting\",\"passing\",\n",
    "        \"dribbling\",\"defending\",\"physic\",\"club_position\"]\n",
    "fifa.drop(fifa.columns.difference(cols), axis=1, inplace=True)\n",
    "fifa = fifa[fifa[\"league_name\"]==\"Spain Primera Division\"]\n",
    "fifa.dropna(inplace=True)\n",
    "fifa.reset_index(inplace=True)\n",
    "fifa.drop(\"index\", axis=1, inplace=True)\n",
    "fifa.sample()"
   ]
  },
  {
   "cell_type": "markdown",
   "id": "ccdd04fc",
   "metadata": {},
   "source": [
    "<font color='blue'>Now let's say we are the organizers of the 2022-23 season of LaLiga, and we want to make sure that LaLiga becomes the most athletic league in the world. To measure it, we'll focus on the <b>\"pace\"</b> attribute, and we'll aim to an average of at least 75. Let's try to figure out if the current average pace of our soccer league population is above or not the target of 75:"
   ]
  },
  {
   "cell_type": "code",
   "execution_count": 85,
   "id": "316369ac",
   "metadata": {
    "ExecuteTime": {
     "end_time": "2022-03-05T18:38:40.650582Z",
     "start_time": "2022-03-05T18:38:40.637274Z"
    }
   },
   "outputs": [
    {
     "data": {
      "text/plain": [
       "567"
      ]
     },
     "execution_count": 85,
     "metadata": {},
     "output_type": "execute_result"
    }
   ],
   "source": [
    "len(fifa.index)"
   ]
  },
  {
   "cell_type": "markdown",
   "id": "0e055fe6",
   "metadata": {},
   "source": [
    "<font color='blue'>It looks like the number of the population is too big to calculate the whole average, and we don't have a laptop available... Let's get a sample of 50 players and draw conclusions from there. To do so, we'll use the <b>simple random sampling</b> method:"
   ]
  },
  {
   "cell_type": "code",
   "execution_count": 86,
   "id": "03907e76",
   "metadata": {
    "ExecuteTime": {
     "end_time": "2022-03-05T18:38:40.932673Z",
     "start_time": "2022-03-05T18:38:40.651346Z"
    }
   },
   "outputs": [
    {
     "name": "stderr",
     "output_type": "stream",
     "text": [
      "C:\\Users\\pacressa\\Anaconda3\\lib\\site-packages\\seaborn\\distributions.py:2557: FutureWarning: `distplot` is a deprecated function and will be removed in a future version. Please adapt your code to use either `displot` (a figure-level function with similar flexibility) or `histplot` (an axes-level function for histograms).\n",
      "  warnings.warn(msg, FutureWarning)\n"
     ]
    },
    {
     "name": "stdout",
     "output_type": "stream",
     "text": [
      "count    50.000000\n",
      "mean     68.360000\n",
      "std      11.162547\n",
      "min      36.000000\n",
      "25%      62.250000\n",
      "50%      69.500000\n",
      "75%      76.000000\n",
      "max      87.000000\n",
      "Name: pace, dtype: float64\n",
      "median    69.5\n",
      "mode    66.0\n"
     ]
    },
    {
     "data": {
      "text/plain": [
       "Text(94.0, 0.023, 'std: 11.16')"
      ]
     },
     "execution_count": 86,
     "metadata": {},
     "output_type": "execute_result"
    },
    {
     "data": {
      "image/png": "[encoded data removed]",
      "text/plain": [
       "<Figure size 936x288 with 1 Axes>"
      ]
     },
     "metadata": {},
     "output_type": "display_data"
    }
   ],
   "source": [
    "import statistics as stats\n",
    "#sampling\n",
    "sample = fifa.sample(50, replace=True, random_state=42)\n",
    "paces = sample.pace\n",
    "\n",
    "#plotting\n",
    "sns.set_style(\"whitegrid\")\n",
    "ax1 = sns.distplot(x=paces, bins=10, kde=True, )    #grafic\n",
    "sns.set(rc={\"figure.figsize\":(13, 4)}) #width=3, #height=4\n",
    "plt.title(\"PACE DISTRIBUTION (sample)\", fontsize=20, y=1.05)\n",
    "\n",
    "#creation of parameters\n",
    "def describe(dataframe):\n",
    "    x = dataframe.describe()\n",
    "    return x[1],x[2],x[4],x[5],x[6],x[0]\n",
    "\n",
    "mean, std, q1, median, q3, n = describe(paces)\n",
    "mode = stats.mode(paces)\n",
    "\n",
    "print(paces.describe())\n",
    "print(\"median   \", median)\n",
    "print(\"mode   \", mode)\n",
    "\n",
    "#creation of annotations and labels\n",
    "plt.axvline(mean, 0 ,1, ls='--', c='red')    # mean\n",
    "plt.axvline(q1, 0 ,1, ls=':', c='red')   # Q1\n",
    "plt.axvline(q3, 0 ,1, ls=':', c='red')   # Q2\n",
    "ax1.annotate(q1, xy=(q1-4.5,0.011), color='red')\n",
    "ax1.annotate(int(mean), xy=(mean+0.5,0.015), color='red', fontsize=15)\n",
    "ax1.annotate(q3, xy=(q3+1,0.011), color='red')\n",
    "m= \"median: \"+str(median)\n",
    "ax1.annotate(m, xy=(q3+18,0.043), color='red')\n",
    "m= \"mode: \"+str(mode)\n",
    "ax1.annotate(m, xy=(q3+18,0.033), color='red')\n",
    "m= \"std: \"+str(round(std, 2))\n",
    "ax1.annotate(m, xy=(q3+18,0.023), color='red')"
   ]
  },
  {
   "cell_type": "markdown",
   "id": "7621e88f",
   "metadata": {
    "ExecuteTime": {
     "end_time": "2022-03-05T16:04:07.276975Z",
     "start_time": "2022-03-05T16:04:07.271009Z"
    }
   },
   "source": [
    "<font color='blue'>Apparently the distribution of the sample responds to an approximate <b>Normal distribution</b>. The key parameters are the <b>sample mean of 68.36</b> and <b>sample standard deviation of 11.16</b>. <br><br>The data we have at hand is the one coming from the sample. It's a shame we don't have it from the population, but there's still hope! We can draw approximated calculations from the sample following the <b>hypothesis testing method</b>:<br>\n",
    "1. Set hypothesis:<br>\n",
    "    <b>H(null) :</b> μ = 75    <br>\n",
    "    <b>H(1) :</b> μ > 75  <br><br>\n",
    "2. Alpha: <br>\n",
    "    We'll set an alfa of <b>0.05</b>  as significance threshold.  <br><br>\n",
    "3. Sample statistics:<b> -4.2 </b>"
   ]
  },
  {
   "attachments": {
    "Untitled2.png": {
     "image/png": "[encoded data removed]"
    }
   },
   "cell_type": "markdown",
   "id": "be0cec8a",
   "metadata": {},
   "source": [
    "![Untitled2.png](attachment:Untitled2.png)"
   ]
  },
  {
   "cell_type": "markdown",
   "id": "97a92a65",
   "metadata": {},
   "source": [
    "<font color='blue'>4. Critical value:<br>\n",
    "    Since the sample size is greater than 30, we use the Z-table to find it: <b>-1.645</b><br><br>\n",
    "5. We can see that the Z value -4.2 lays below the critical point of -1.645. Then we can conclude that <b>the null hypothesis can be rejected</b> meaning that most likely the population mean is not beyond the 75 objective we have set."
   ]
  },
  {
   "cell_type": "markdown",
   "id": "5181cf6e",
   "metadata": {},
   "source": [
    "## P-value approach:\n",
    "<font color='blue'>If we had a laptop available, we could've used it to calculate the P-value and follow the p-value approach to reach to the same conclusion:"
   ]
  },
  {
   "cell_type": "code",
   "execution_count": 87,
   "id": "9d6c3a94",
   "metadata": {
    "ExecuteTime": {
     "end_time": "2022-03-05T18:38:40.948262Z",
     "start_time": "2022-03-05T18:38:40.934183Z"
    }
   },
   "outputs": [
    {
     "data": {
      "text/plain": [
       "Ttest_1sampResult(statistic=-4.206198773846341, pvalue=0.00011006707248470678)"
      ]
     },
     "execution_count": 87,
     "metadata": {},
     "output_type": "execute_result"
    }
   ],
   "source": [
    "st.ttest_1samp(paces, 75)"
   ]
  },
  {
   "cell_type": "markdown",
   "id": "9ffa95e8",
   "metadata": {},
   "source": [
    "<font color='blue'>After calculating the <b>P-value</b>, we see its value is <b>0.01%</b>, way under the alpha of 5%. This confirms that the <b>we can reject the null hypothesis</b>. In other words, the actual population mean must be much lower than the pace target of 70. <br><br>We can get rid of any doubt by actually calculating the mean of the whole population:"
   ]
  },
  {
   "cell_type": "code",
   "execution_count": 88,
   "id": "76a84f67",
   "metadata": {
    "ExecuteTime": {
     "end_time": "2022-03-05T18:38:40.963824Z",
     "start_time": "2022-03-05T18:38:40.949772Z"
    }
   },
   "outputs": [
    {
     "data": {
      "text/plain": [
       "69.57495590828924"
      ]
     },
     "execution_count": 88,
     "metadata": {},
     "output_type": "execute_result"
    }
   ],
   "source": [
    "fifa.pace.mean()"
   ]
  },
  {
   "cell_type": "markdown",
   "id": "7154737b",
   "metadata": {},
   "source": [
    "<font color='blue'>Effectively, the mean of the population was much lower than the 75 we are aiming for. The mean of the sample before (68.36), did reflect well the population mean. <br><br>For us, this means that our Spanish league's average pace is still to low and we'll prompt the coaches of all teams to make an extra effort and improve the physical trainings in order to better this stat."
   ]
  },
  {
   "cell_type": "markdown",
   "id": "5577aab8",
   "metadata": {},
   "source": [
    "## - Exercici 2\n",
    "Continua amb el conjunt de dades de tema esportiu que t'agradi i selecciona dos altres atributs del conjunt de dades. Calcula els p-valors i digues si rebutgen la hipòtesi nul·la agafant un alfa de 5%.<br><br>\n",
    "<font color='blue'>In order to increase the pace of the players of the Spanish League, the organizers have the gut feeling that it must be due to average excessive weight. To do so, they'll take the same sample of 50 players, and try to figure out if there's a linear relationship between \"<b>pace</b>\" and \"<b>weights</b>\", and try to conclude if the result can be extrapolated to the whole population:"
   ]
  },
  {
   "cell_type": "code",
   "execution_count": 120,
   "id": "1a75f62b",
   "metadata": {
    "ExecuteTime": {
     "end_time": "2022-03-05T19:04:31.793190Z",
     "start_time": "2022-03-05T19:04:31.612546Z"
    }
   },
   "outputs": [
    {
     "data": {
      "image/png": "[encoded data removed]",
      "text/plain": [
       "<Figure size 936x288 with 1 Axes>"
      ]
     },
     "metadata": {},
     "output_type": "display_data"
    }
   ],
   "source": [
    "weights = sample.weight_kg\n",
    "sns.set_style(\"whitegrid\")\n",
    "ax1 = sns.scatterplot(x=weights, y=paces)    #grafic"
   ]
  },
  {
   "cell_type": "markdown",
   "id": "0e4992d7",
   "metadata": {},
   "source": [
    "<font color='blue'>With the naked eye, based on the sample it seems that there could slightly be a correlation, where the players with more weight run slower than the lighter. Let's double check it with the test \"<b>Pearson’s Correlation Coefficient</b>\": <br><br>\n",
    "Hipotesis:<br>\n",
    "\n",
    "- H(null) : \"pace\" and \"weights\" = independent <br>\n",
    "- H(1) : \"pace\" and \"weights\" ≠ independent <br>\n",
    "- Significance: 0.05"
   ]
  },
  {
   "cell_type": "code",
   "execution_count": 90,
   "id": "ff3cdf77",
   "metadata": {
    "ExecuteTime": {
     "end_time": "2022-03-05T18:38:41.197280Z",
     "start_time": "2022-03-05T18:38:41.183913Z"
    }
   },
   "outputs": [
    {
     "name": "stdout",
     "output_type": "stream",
     "text": [
      "stat=-0.404, p=0.004\n",
      "Probably dependent\n"
     ]
    }
   ],
   "source": [
    "from scipy.stats import pearsonr\n",
    "stat, p = pearsonr(paces, weights)\n",
    "print('stat=%.3f, p=%.3f' % (stat, p))\n",
    "if p > 0.05:\n",
    "\tprint('Probably independent')\n",
    "else:\n",
    "\tprint('Probably dependent')"
   ]
  },
  {
   "cell_type": "markdown",
   "id": "88ba3791",
   "metadata": {},
   "source": [
    "<font color='blue'>After carrying out the test, the p-value resulted in 0.4%, way lower than the 5% minimum to back up the null hypothesis. This means we <b>can reject the null hypothesis</b>, so that the attributes \"pace\" and \"weights\" must be correlated."
   ]
  },
  {
   "cell_type": "markdown",
   "id": "4de3aa6e",
   "metadata": {},
   "source": [
    "## - Exercici 3\n",
    "Continua amb el conjunt de dades de tema esportiu que t'agradi i selecciona tres atributs del conjunt de dades. Calcula el p-valor i digues si rebutja la hipòtesi nul·la agafant un alfa de 5%."
   ]
  },
  {
   "cell_type": "markdown",
   "id": "24c8e645",
   "metadata": {},
   "source": [
    "<font color='blue'>So now it seems we have a clue about the general cause of the mean pace of our league being so slow: some players have overweight! We need to inform the coaches and start working hard to lose weight. <br><br>But before we start, we want to make sure this is an issue spread across all the teams in the league. So we assume that all the teams share the same mean weight. To prove it, we'll follow the <b>cluster sampling method</b> and take as samples three teams very different size-wise: FC Barcelona, Real Sociedad and Elche CF. Then we'll run an <b>Analysis of variance test (ANOVA)</b> that will calculate the p-value of all three having roughly the same mean:"
   ]
  },
  {
   "cell_type": "markdown",
   "id": "c8de287e",
   "metadata": {},
   "source": [
    "<font color='blue'>Hipotesis:<br>\n",
    "\n",
    "- H(null) : the means of the samples are equal <br>\n",
    "- H(1) : one or more of the means of the samples are unequal <br>\n",
    "- Significance: 0.05"
   ]
  },
  {
   "cell_type": "code",
   "execution_count": 122,
   "id": "eae9be39",
   "metadata": {
    "ExecuteTime": {
     "end_time": "2022-03-05T19:09:32.317130Z",
     "start_time": "2022-03-05T19:09:32.294517Z"
    }
   },
   "outputs": [
    {
     "name": "stdout",
     "output_type": "stream",
     "text": [
      "stat=2.419, p=0.096\n",
      "Probably the same distribution\n"
     ]
    }
   ],
   "source": [
    " #filtering only the 3 clubs\n",
    "clubs = fifa[fifa.club_name.isin([\"FC Barcelona\",\"Real Sociedad\",\"Elche CF\"])]\n",
    "fcb_w = clubs[clubs.club_name==\"FC Barcelona\"].weight_kg\n",
    "rsc_w = clubs[clubs.club_name==\"Real Sociedad\"].weight_kg\n",
    "elx_w = clubs[clubs.club_name==\"Elche CF\"].weight_kg\n",
    "\n",
    "#launching the test\n",
    "from scipy.stats import f_oneway\n",
    "stat, p = f_oneway(fcb_w, rsc_w, elx_w)\n",
    "print('stat=%.3f, p=%.3f' % (stat, p))\n",
    "if p > 0.05:\n",
    "\tprint('Probably the same distribution')\n",
    "else:\n",
    "\tprint('Probably different distributions')"
   ]
  },
  {
   "cell_type": "markdown",
   "id": "75031b66",
   "metadata": {
    "ExecuteTime": {
     "end_time": "2022-03-05T19:10:32.900129Z",
     "start_time": "2022-03-05T19:10:32.882197Z"
    }
   },
   "source": [
    "<font color='blue'>Finally we got the <b>p-value</b>, which is <b>9.6%</b>. This means the null hypothesis is reforced and we can assure with a 5% significance level that the weight means of these teams are indeed very similar. Let's see it with a plot and calculating the means directly:"
   ]
  },
  {
   "cell_type": "code",
   "execution_count": 134,
   "id": "24569e8b",
   "metadata": {
    "ExecuteTime": {
     "end_time": "2022-03-05T19:17:49.461253Z",
     "start_time": "2022-03-05T19:17:49.095920Z"
    },
    "scrolled": false
   },
   "outputs": [
    {
     "name": "stdout",
     "output_type": "stream",
     "text": [
      "\n",
      "74.17391304347827\n",
      "75.57692307692308\n"
     ]
    },
    {
     "data": {
      "text/plain": [
       "Text(50, 7, 'Elche CF mean: 75.58')"
      ]
     },
     "execution_count": 134,
     "metadata": {},
     "output_type": "execute_result"
    },
    {
     "data": {
      "image/png": "[encoded data removed]",
      "text/plain": [
       "<Figure size 936x288 with 1 Axes>"
      ]
     },
     "metadata": {},
     "output_type": "display_data"
    }
   ],
   "source": [
    "#plots\n",
    "plt.figure(figsize=(13, 4))\n",
    "sns.set_style(\"whitegrid\")\n",
    "ax = sns.histplot(data=clubs, x='weight_kg', hue='club_name', kde=True)\n",
    "ax.set_xlim(40,100)\n",
    "\n",
    "#annotations\n",
    "print()\n",
    "print(rsc_w.mean())\n",
    "print(elx_w.mean())\n",
    "m= \"FC Barcelona mean: \"+str(round(fcb_w.mean(),2))\n",
    "ax.annotate(m, xy=(50,10), color='red')\n",
    "m= \"Real Sociedad mean: \"+str(round(rsc_w.mean(),2))\n",
    "ax.annotate(m, xy=(50, 8.5), color='red')\n",
    "m= \"Elche CF mean: \"+str(round(elx_w.mean(),2))\n",
    "ax.annotate(m, xy=(50, 7), color='red')"
   ]
  },
  {
   "cell_type": "markdown",
   "id": "5c7f1668",
   "metadata": {},
   "source": [
    "<font color='blue'>It does look like the weights across the teams are similar, not exact but all are around the 71-75 kgs.<br>Now thanks to this tests, we have a pretty safe hint that the issue of slow paces in our league is coming from a high weight which is most likely spread across all the teams.<br><br>Let's give a call to the coaches and get these players sweating!"
   ]
  }
 ],
 "metadata": {
  "kernelspec": {
   "display_name": "Python 3 (ipykernel)",
   "language": "python",
   "name": "python3"
  },
  "language_info": {
   "codemirror_mode": {
    "name": "ipython",
    "version": 3
   },
   "file_extension": ".py",
   "mimetype": "text/x-python",
   "name": "python",
   "nbconvert_exporter": "python",
   "pygments_lexer": "ipython3",
   "version": "3.9.7"
  }
 },
 "nbformat": 4,
 "nbformat_minor": 5
}
