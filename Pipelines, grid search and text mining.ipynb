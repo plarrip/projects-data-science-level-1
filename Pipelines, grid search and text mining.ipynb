{
 "cells": [
  {
   "cell_type": "code",
   "execution_count": 93,
   "id": "ecea8b2c",
   "metadata": {
    "ExecuteTime": {
     "end_time": "2022-04-19T12:36:47.782115Z",
     "start_time": "2022-04-19T12:36:47.634389Z"
    }
   },
   "outputs": [
    {
     "data": {
      "application/javascript": [
       "IPython.notebook.set_autosave_interval(0)"
      ]
     },
     "metadata": {},
     "output_type": "display_data"
    },
    {
     "name": "stdout",
     "output_type": "stream",
     "text": [
      "Autosave disabled\n"
     ]
    }
   ],
   "source": [
    " %autosave 0"
   ]
  },
  {
   "cell_type": "markdown",
   "id": "eedd7229",
   "metadata": {},
   "source": [
    "# S12T01 - Pipelines, grid search i text mining\n",
    "Comencem a familiaritzar-nos amb Pipelines, grid search i text mining !!! Comencem amb uns quants exercicis bàsics\n",
    "\n",
    "## - Exercici 1.1\n",
    "Agafa el conjunt de dades que vulguis i realitza un pipeline i un gridsearch aplicant l'algorisme de Random Forest. <br><br>\n",
    "<font color='blue'>For this activity we'll use a dataset that gathers data of the last years' peformance of the cryptocurrency <b>Ethereum (ETH)</b>. We'll try to predict the performance based on the independent variabless.  Let's start by loading and cleaning the data first:\n",
    "\n",
    "### - Data import and exploration"
   ]
  },
  {
   "cell_type": "code",
   "execution_count": 94,
   "id": "05923467",
   "metadata": {
    "ExecuteTime": {
     "end_time": "2022-04-19T12:36:48.204552Z",
     "start_time": "2022-04-19T12:36:47.785667Z"
    }
   },
   "outputs": [
    {
     "name": "stdout",
     "output_type": "stream",
     "text": [
      "Shape:  (1598, 7) \n",
      "\n",
      "<class 'pandas.core.frame.DataFrame'>\n",
      "RangeIndex: 1598 entries, 0 to 1597\n",
      "Data columns (total 7 columns):\n",
      " #   Column     Non-Null Count  Dtype  \n",
      "---  ------     --------------  -----  \n",
      " 0   Date       1598 non-null   object \n",
      " 1   Open       1598 non-null   float64\n",
      " 2   High       1598 non-null   float64\n",
      " 3   Low        1598 non-null   float64\n",
      " 4   Close      1598 non-null   float64\n",
      " 5   Adj Close  1598 non-null   float64\n",
      " 6   Volume     1598 non-null   int64  \n",
      "dtypes: float64(5), int64(1), object(1)\n",
      "memory usage: 87.5+ KB\n",
      "None \n",
      "\n",
      "NaNs: \n",
      " Date         0\n",
      "Open         0\n",
      "High         0\n",
      "Low          0\n",
      "Close        0\n",
      "Adj Close    0\n",
      "Volume       0\n",
      "dtype: int64\n"
     ]
    },
    {
     "data": {
      "text/html": [
       "<div>\n",
       "<style scoped>\n",
       "    .dataframe tbody tr th:only-of-type {\n",
       "        vertical-align: middle;\n",
       "    }\n",
       "\n",
       "    .dataframe tbody tr th {\n",
       "        vertical-align: top;\n",
       "    }\n",
       "\n",
       "    .dataframe thead th {\n",
       "        text-align: right;\n",
       "    }\n",
       "</style>\n",
       "<table border=\"1\" class=\"dataframe\">\n",
       "  <thead>\n",
       "    <tr style=\"text-align: right;\">\n",
       "      <th></th>\n",
       "      <th>Open</th>\n",
       "      <th>High</th>\n",
       "      <th>Low</th>\n",
       "      <th>Close</th>\n",
       "      <th>Adj Close</th>\n",
       "      <th>Volume</th>\n",
       "    </tr>\n",
       "    <tr>\n",
       "      <th>Date</th>\n",
       "      <th></th>\n",
       "      <th></th>\n",
       "      <th></th>\n",
       "      <th></th>\n",
       "      <th></th>\n",
       "      <th></th>\n",
       "    </tr>\n",
       "  </thead>\n",
       "  <tbody>\n",
       "    <tr>\n",
       "      <th>2019-03-01</th>\n",
       "      <td>136.836243</td>\n",
       "      <td>138.995270</td>\n",
       "      <td>136.434784</td>\n",
       "      <td>136.443619</td>\n",
       "      <td>136.443619</td>\n",
       "      <td>3756124824</td>\n",
       "    </tr>\n",
       "    <tr>\n",
       "      <th>2020-05-15</th>\n",
       "      <td>202.955399</td>\n",
       "      <td>203.566391</td>\n",
       "      <td>193.755676</td>\n",
       "      <td>195.622665</td>\n",
       "      <td>195.622665</td>\n",
       "      <td>16602342092</td>\n",
       "    </tr>\n",
       "    <tr>\n",
       "      <th>2019-12-11</th>\n",
       "      <td>146.320648</td>\n",
       "      <td>147.139206</td>\n",
       "      <td>143.045364</td>\n",
       "      <td>143.608002</td>\n",
       "      <td>143.608002</td>\n",
       "      <td>7037180049</td>\n",
       "    </tr>\n",
       "    <tr>\n",
       "      <th>2020-04-29</th>\n",
       "      <td>198.465195</td>\n",
       "      <td>218.454636</td>\n",
       "      <td>198.124512</td>\n",
       "      <td>216.968231</td>\n",
       "      <td>216.968231</td>\n",
       "      <td>26397548759</td>\n",
       "    </tr>\n",
       "    <tr>\n",
       "      <th>2021-12-28</th>\n",
       "      <td>4037.538086</td>\n",
       "      <td>4037.538086</td>\n",
       "      <td>3769.280029</td>\n",
       "      <td>3800.893066</td>\n",
       "      <td>3800.893066</td>\n",
       "      <td>17299472803</td>\n",
       "    </tr>\n",
       "  </tbody>\n",
       "</table>\n",
       "</div>"
      ],
      "text/plain": [
       "                   Open         High          Low        Close    Adj Close  \\\n",
       "Date                                                                          \n",
       "2019-03-01   136.836243   138.995270   136.434784   136.443619   136.443619   \n",
       "2020-05-15   202.955399   203.566391   193.755676   195.622665   195.622665   \n",
       "2019-12-11   146.320648   147.139206   143.045364   143.608002   143.608002   \n",
       "2020-04-29   198.465195   218.454636   198.124512   216.968231   216.968231   \n",
       "2021-12-28  4037.538086  4037.538086  3769.280029  3800.893066  3800.893066   \n",
       "\n",
       "                 Volume  \n",
       "Date                     \n",
       "2019-03-01   3756124824  \n",
       "2020-05-15  16602342092  \n",
       "2019-12-11   7037180049  \n",
       "2020-04-29  26397548759  \n",
       "2021-12-28  17299472803  "
      ]
     },
     "execution_count": 94,
     "metadata": {},
     "output_type": "execute_result"
    }
   ],
   "source": [
    "import pandas as pd\n",
    "import matplotlib.pyplot as plt\n",
    "\n",
    "eth = pd.read_csv(r'ETH.csv')\n",
    "print(\"Shape: \", eth.shape, \"\\n\")\n",
    "print(eth.info(), \"\\n\")\n",
    "print(\"NaNs: \\n\", eth.isna().sum())\n",
    "eth.set_index('Date', inplace=True)\n",
    "eth.sample(5)"
   ]
  },
  {
   "cell_type": "markdown",
   "id": "975d2960",
   "metadata": {},
   "source": [
    "<font color='blue'>We can try to vizualize the <b>target variable 'Adj Close'</b>, which is the adjusted price which the coin closes the day at, and will set the performance of the criptocurrency:"
   ]
  },
  {
   "cell_type": "code",
   "execution_count": 95,
   "id": "c151a92b",
   "metadata": {
    "ExecuteTime": {
     "end_time": "2022-04-19T12:36:48.607616Z",
     "start_time": "2022-04-19T12:36:48.207550Z"
    }
   },
   "outputs": [
    {
     "data": {
      "image/png": "[encoded data removed]",
      "text/plain": [
       "<Figure size 1152x360 with 1 Axes>"
      ]
     },
     "metadata": {
      "needs_background": "light"
     },
     "output_type": "display_data"
    }
   ],
   "source": [
    "eth['Adj Close'].plot(figsize=(16,5))\n",
    "plt.ylabel(\"Adj Close\")\n",
    "plt.xticks(rotation=45)\n",
    "plt.show()"
   ]
  },
  {
   "cell_type": "markdown",
   "id": "23da5292",
   "metadata": {},
   "source": [
    "<font color='blue'>We can see how the line plot shows the trend of the criptocurrency to scale as the times goes by, with some important dips on the road."
   ]
  },
  {
   "cell_type": "code",
   "execution_count": 96,
   "id": "61af1eea",
   "metadata": {
    "ExecuteTime": {
     "end_time": "2022-04-19T12:36:48.856429Z",
     "start_time": "2022-04-19T12:36:48.610606Z"
    }
   },
   "outputs": [
    {
     "data": {
      "image/png": "[encoded data removed]",
      "text/plain": [
       "<Figure size 432x288 with 1 Axes>"
      ]
     },
     "metadata": {
      "needs_background": "light"
     },
     "output_type": "display_data"
    }
   ],
   "source": [
    "eth['Adj Close'].pct_change().plot.hist(bins=50)\n",
    "plt.xlabel(\"Adjusted close 1 day percent change\")\n",
    "plt.show()"
   ]
  },
  {
   "cell_type": "markdown",
   "id": "9059a594",
   "metadata": {},
   "source": [
    "<font color='blue'>We can observe the daily price change percentage is mostly concentrated between -20% and +20%, meaning that this cryptocurrency is very volatile. But we can also guess that the average is above 0, confirming the general upper trend of the coin since its inception.\n",
    "    \n",
    "### - Train-Test split\n",
    "    \n"
   ]
  },
  {
   "cell_type": "code",
   "execution_count": 97,
   "id": "3adabef4",
   "metadata": {
    "ExecuteTime": {
     "end_time": "2022-04-19T12:36:48.903116Z",
     "start_time": "2022-04-19T12:36:48.857395Z"
    }
   },
   "outputs": [],
   "source": [
    "#part between train and test sets\n",
    "from sklearn.model_selection import train_test_split \n",
    "X=eth.drop(['Adj Close', 'Close'],axis=1)\n",
    "y=eth['Adj Close']\n",
    "X_train, X_test, y_train, y_test = train_test_split(X,y,test_size=0.3, random_state=30)"
   ]
  },
  {
   "cell_type": "markdown",
   "id": "3a77f555",
   "metadata": {},
   "source": [
    "<br><font color='blue'>Let's see if we can first apply a pipeline to our data that includes:\n",
    "   - Scaling\n",
    "   - Random Forest model training\n",
    "\n",
    "Let's first figure out if the data follows a normal distribution or not:"
   ]
  },
  {
   "cell_type": "code",
   "execution_count": 98,
   "id": "34197060",
   "metadata": {
    "ExecuteTime": {
     "end_time": "2022-04-19T12:36:48.933693Z",
     "start_time": "2022-04-19T12:36:48.904116Z"
    }
   },
   "outputs": [
    {
     "name": "stdout",
     "output_type": "stream",
     "text": [
      "stat=0.367, p=0.000\n",
      "Probably not Gaussian\n"
     ]
    },
    {
     "name": "stderr",
     "output_type": "stream",
     "text": [
      "C:\\Users\\pacressa\\Anaconda3\\lib\\site-packages\\scipy\\stats\\morestats.py:1681: UserWarning: p-value may not be accurate for N > 5000.\n",
      "  warnings.warn(\"p-value may not be accurate for N > 5000.\")\n"
     ]
    }
   ],
   "source": [
    "# Shapiro-Wilk Normality Test\n",
    "from scipy.stats import shapiro\n",
    "stat, p = shapiro(eth)\n",
    "print('stat=%.3f, p=%.3f' % (stat, p))\n",
    "if p > 0.05:\n",
    "\tprint('Probably Gaussian')\n",
    "else:\n",
    "\tprint('Probably not Gaussian')"
   ]
  },
  {
   "cell_type": "markdown",
   "id": "f3812098",
   "metadata": {},
   "source": [
    "<font color='blue'>It seems not following a normal distribution, so for the scaler we'll use the <b>MinMaxScaler()</b>.\n",
    "    \n",
    "### - GridSearchCV()"
   ]
  },
  {
   "cell_type": "code",
   "execution_count": 99,
   "id": "992db68c",
   "metadata": {
    "ExecuteTime": {
     "end_time": "2022-04-19T12:40:50.411649Z",
     "start_time": "2022-04-19T12:36:48.935609Z"
    }
   },
   "outputs": [
    {
     "name": "stdout",
     "output_type": "stream",
     "text": [
      "Fitting 3 folds for each of 288 candidates, totalling 864 fits\n"
     ]
    },
    {
     "data": {
      "text/plain": [
       "{'bootstrap': True,\n",
       " 'max_depth': 80,\n",
       " 'max_features': 3,\n",
       " 'min_samples_leaf': 4,\n",
       " 'min_samples_split': 8,\n",
       " 'n_estimators': 100}"
      ]
     },
     "execution_count": 99,
     "metadata": {},
     "output_type": "execute_result"
    }
   ],
   "source": [
    "from sklearn.pipeline import Pipeline\n",
    "from sklearn.ensemble import RandomForestRegressor as RFR\n",
    "from sklearn.model_selection import GridSearchCV\n",
    "from sklearn.metrics import mean_absolute_error\n",
    "from sklearn.preprocessing import MinMaxScaler\n",
    "\n",
    "#set different hyperparameters options for the model \n",
    "param_m = {\n",
    "    'bootstrap': [True],\n",
    "    'max_depth': [80, 90, 100, 110],\n",
    "    'max_features': [2, 3],\n",
    "    'min_samples_leaf': [3, 4, 5],\n",
    "    'min_samples_split': [8, 10, 12],\n",
    "    'n_estimators': [100, 200, 300, 1000]\n",
    "}\n",
    "\n",
    "# Create a based model\n",
    "rf = RFR()\n",
    "\n",
    "# Instantiate the grid search model\n",
    "grid_search = GridSearchCV(estimator = rf, param_grid = param_m, cv = 3, n_jobs = -1, verbose = 2)\n",
    "\n",
    "# Fit the grid search to the data\n",
    "grid_search.fit(X_train, y_train)\n",
    "\n",
    "grid_search.best_params_"
   ]
  },
  {
   "cell_type": "markdown",
   "id": "6165207f",
   "metadata": {},
   "source": [
    "<font color='blue'>Now we have the most optimal hyperparameters that we'll use for the model next:"
   ]
  },
  {
   "cell_type": "markdown",
   "id": "b1914e6f",
   "metadata": {},
   "source": [
    "### <font color='blue'>- Pipeline"
   ]
  },
  {
   "cell_type": "code",
   "execution_count": 100,
   "id": "b36d5288",
   "metadata": {
    "ExecuteTime": {
     "end_time": "2022-04-19T12:40:52.288141Z",
     "start_time": "2022-04-19T12:40:50.415293Z"
    }
   },
   "outputs": [
    {
     "name": "stdout",
     "output_type": "stream",
     "text": [
      "PERFORMANCE OF ORIGINAL MODEL:\n",
      "\tAverage Error: 22.1434 degrees.\n",
      "\tAccuracy = 97.92%.\n",
      "\n",
      "PERFORMANCE AFTER SCALING & BEFORE HYPERPARAMETER TUNING:\n",
      "\tAverage Error: 22.5895 degrees.\n",
      "\tAccuracy = 97.90%.\n",
      "\n",
      "PERFORMANCE AFTER SCALING & HYPERPARAMETER TUNING:\n",
      "\tAverage Error: 22.5264 degrees.\n",
      "\tAccuracy = 97.87%.\n",
      "\n"
     ]
    }
   ],
   "source": [
    "import numpy as np\n",
    "\n",
    "#embed scaler and model into the original pipeline\n",
    "steps = [('scaler', MinMaxScaler()), ('model', RFR())]\n",
    "pipeline1 = Pipeline(steps)\n",
    "\n",
    "#designing a secong pipeline with the optimal hyperparameters for the model\n",
    "steps = [('scaler', MinMaxScaler()), ('model', RFR(bootstrap=True, max_depth=100, max_features=3,\n",
    "                                        min_samples_leaf=3, min_samples_split=8, n_estimators=200))]\n",
    "pipeline2 = Pipeline(steps)\n",
    "\n",
    "#designing a function to assess the performance of any model\n",
    "def evaluate(model, X_test, y_test):\n",
    "    predictions = model.predict(X_test)\n",
    "    errors = abs(predictions - y_test)\n",
    "    mape = 100 * np.mean(errors / y_test)\n",
    "    accuracy = 100 - mape\n",
    "    print('\\tAverage Error: {:0.4f} degrees.'.format(np.mean(errors)))\n",
    "    print('\\tAccuracy = {:0.2f}%.'.format(accuracy))\n",
    "    \n",
    "    return accuracy\n",
    "\n",
    "print(\"PERFORMANCE OF ORIGINAL MODEL:\")\n",
    "model0 = RFR().fit(X_train, y_train)\n",
    "evaluate(model0, X_test, y_test)\n",
    "\n",
    "print(\"\\nPERFORMANCE AFTER SCALING & BEFORE HYPERPARAMETER TUNING:\")\n",
    "model1 = pipeline1.fit(X_train, y_train)\n",
    "evaluate(model1, X_test, y_test)\n",
    "\n",
    "print(\"\\nPERFORMANCE AFTER SCALING & HYPERPARAMETER TUNING:\")\n",
    "model2 = pipeline2.fit(X_train, y_train)\n",
    "evaluate(model2, X_test, y_test)\n",
    "print(\"\")"
   ]
  },
  {
   "cell_type": "markdown",
   "id": "c8030134",
   "metadata": {},
   "source": [
    "<font color='blue'>All the results are very high in accuracy (97%) implying that the model must be over-fitted. However, after passing the model through the Pipeline (scaling data + tuning the model) we can see how the accuracy reduces a bit (0.05%) making the model less under-fitted, hence making it better."
   ]
  },
  {
   "cell_type": "markdown",
   "id": "ee821526",
   "metadata": {},
   "source": [
    "## - Exercici 1.2\n",
    "Agafa un text en anglès que vulguis, i calcula'n la freqüència de les paraules\n",
    "\n",
    "<font color='blue'>We'll choose a random Google review of an italian restaurant. This is the selected one:<br><br>\n",
    "    <b>\"Oh my goodness, what can I say? We were totally blown away with this place. The cocktails (Madame Butterfly) and the food (the porchetta was melt in the mouth, the duck ragu savory perfection, in particular) were perfection. I wish I lived closer to visit more often. You need to eat here.\"\n",
    "        \n",
    "### - Tokenization"
   ]
  },
  {
   "cell_type": "code",
   "execution_count": 101,
   "id": "9da442f9",
   "metadata": {
    "ExecuteTime": {
     "end_time": "2022-04-19T12:40:52.319702Z",
     "start_time": "2022-04-19T12:40:52.291093Z"
    }
   },
   "outputs": [
    {
     "name": "stdout",
     "output_type": "stream",
     "text": [
      "['Oh', 'my', 'goodness', ',', 'what', 'can', 'I', 'say', '?', 'We', 'were', 'totally', 'blown', 'away', 'with', 'this', 'place', '.', 'The', 'cocktails', '(', 'Madame', 'Butterfly', ')', 'and', 'the', 'food', '(', 'the', 'porchetta', 'was', 'melt', 'in', 'the', 'mouth', ',', 'the', 'duck', 'ragu', 'savory', 'perfection', ',', 'in', 'particular', ')', 'were', 'perfection', '.', 'I', 'wish', 'I', 'lived', 'closer', 'to', 'visit', 'more', 'often', '.', 'You', 'need', 'to', 'eat', 'here', '.']\n"
     ]
    }
   ],
   "source": [
    "from nltk.tokenize import word_tokenize\n",
    "\n",
    "text = \"Oh my goodness, what can I say? We were totally blown away with this place. The cocktails (Madame Butterfly) and the food (the porchetta was melt in the mouth, the duck ragu savory perfection, in particular) were perfection. I wish I lived closer to visit more often. You need to eat here.\"\n",
    "tokenized_word=word_tokenize(text)\n",
    "print(tokenized_word)"
   ]
  },
  {
   "cell_type": "markdown",
   "id": "38f39cdd",
   "metadata": {},
   "source": [
    "### <font color='blue'>- Frequency Distribution"
   ]
  },
  {
   "cell_type": "code",
   "execution_count": 102,
   "id": "c5576c75",
   "metadata": {
    "ExecuteTime": {
     "end_time": "2022-04-19T12:40:52.901255Z",
     "start_time": "2022-04-19T12:40:52.321700Z"
    }
   },
   "outputs": [
    {
     "name": "stdout",
     "output_type": "stream",
     "text": [
      "<FreqDist with 48 samples and 64 outcomes>\n",
      "[('.', 4), ('the', 4)]\n"
     ]
    },
    {
     "data": {
      "image/png": "[encoded data removed]",
      "text/plain": [
       "<Figure size 432x288 with 1 Axes>"
      ]
     },
     "metadata": {
      "needs_background": "light"
     },
     "output_type": "display_data"
    }
   ],
   "source": [
    "from nltk.probability import FreqDist\n",
    "fdist = FreqDist(tokenized_word)\n",
    "print(fdist)\n",
    "\n",
    "print(fdist.most_common(2))\n",
    "\n",
    "# Frequency Distribution Plot\n",
    "import matplotlib.pyplot as plt\n",
    "fdist.plot(30,cumulative=False)\n",
    "plt.show()"
   ]
  },
  {
   "cell_type": "markdown",
   "id": "1e7730cc",
   "metadata": {},
   "source": [
    "## - Exercici 2.1\n",
    "Treu les stopwords i realitza stemming al teu conjunt de dades.<br><br>\n",
    "### <font color='blue'>- Stopwords"
   ]
  },
  {
   "cell_type": "code",
   "execution_count": 103,
   "id": "704ae173",
   "metadata": {
    "ExecuteTime": {
     "end_time": "2022-04-19T12:40:52.932067Z",
     "start_time": "2022-04-19T12:40:52.904430Z"
    }
   },
   "outputs": [
    {
     "name": "stdout",
     "output_type": "stream",
     "text": [
      "{'his', 'if', 'in', 'both', 'or', 'when', 'yours', 'me', \"needn't\", 'your', \"won't\", \"hasn't\", 'doing', 'very', 'does', 'wouldn', 'why', 'is', 'below', 'each', 'theirs', 'herself', 'this', 'what', 'ourselves', 'most', 's', 'itself', 'up', 'y', 'it', 'until', 'more', 'she', 'again', 'just', 'will', 'between', 'same', 'about', \"didn't\", 'm', 'yourselves', 'to', 'then', 'than', 'that', 'ours', 'll', \"couldn't\", \"mightn't\", 'as', 'there', 'into', 'before', 'did', 'through', 'and', \"she's\", 'from', 'but', 'have', 'mustn', 'haven', 'such', 'above', \"weren't\", 'won', \"you've\", 'himself', 'other', 'hadn', 'while', 'all', \"shouldn't\", 'mightn', 'of', 'during', 'after', 'should', \"shan't\", 'they', 'a', 'shouldn', 'couldn', 'whom', 'don', \"aren't\", 'didn', 'which', 'our', 'its', \"it's\", 'themselves', 'being', 'ma', 'out', 'not', 'doesn', 'been', 'no', 'do', 'with', 'once', 't', 'was', 're', 'ain', 'wasn', \"wasn't\", 'off', \"doesn't\", 'some', 'hasn', 'myself', 'on', \"that'll\", 'for', \"isn't\", \"don't\", 've', 'further', 'we', 'are', 'now', 'he', 'were', \"should've\", 'these', \"mustn't\", 'you', 'by', 'because', 'those', 'too', 'weren', 'few', 'here', \"hadn't\", 'the', 'nor', \"you'd\", 'i', 'where', 'him', 'under', 'any', 'shan', 'over', 'isn', 'an', 'how', 'has', \"haven't\", 'her', 'own', 'd', 'be', 'so', \"wouldn't\", 'their', 'them', 'needn', \"you're\", 'hers', 'against', 'down', 'can', 'only', 'aren', 'my', 'yourself', \"you'll\", 'am', 'who', 'having', 'o', 'had', 'at'}\n",
      "\n",
      "Tokenized Sentence: ['Oh', 'my', 'goodness', ',', 'what', 'can', 'I', 'say', '?', 'We', 'were', 'totally', 'blown', 'away', 'with', 'this', 'place', '.', 'The', 'cocktails', '(', 'Madame', 'Butterfly', ')', 'and', 'the', 'food', '(', 'the', 'porchetta', 'was', 'melt', 'in', 'the', 'mouth', ',', 'the', 'duck', 'ragu', 'savory', 'perfection', ',', 'in', 'particular', ')', 'were', 'perfection', '.', 'I', 'wish', 'I', 'lived', 'closer', 'to', 'visit', 'more', 'often', '.', 'You', 'need', 'to', 'eat', 'here', '.']\n",
      "\n",
      "Filtered Sentence: ['Oh', 'goodness', ',', 'I', 'say', '?', 'We', 'totally', 'blown', 'away', 'place', '.', 'The', 'cocktails', '(', 'Madame', 'Butterfly', ')', 'food', '(', 'porchetta', 'melt', 'mouth', ',', 'duck', 'ragu', 'savory', 'perfection', ',', 'particular', ')', 'perfection', '.', 'I', 'wish', 'I', 'lived', 'closer', 'visit', 'often', '.', 'You', 'need', 'eat', '.']\n"
     ]
    }
   ],
   "source": [
    "from nltk.corpus import stopwords\n",
    "stop_words=set(stopwords.words(\"english\"))\n",
    "print(stop_words)\n",
    "\n",
    "filtered_sent=[]\n",
    "for w in tokenized_word:\n",
    "    if w not in stop_words:\n",
    "        filtered_sent.append(w)\n",
    "print(\"\\nTokenized Sentence:\",tokenized_word)\n",
    "print(\"\\nFiltered Sentence:\",filtered_sent)"
   ]
  },
  {
   "cell_type": "markdown",
   "id": "b8470110",
   "metadata": {},
   "source": [
    "### <font color='blue'>- Stemming"
   ]
  },
  {
   "cell_type": "code",
   "execution_count": 104,
   "id": "26e6680e",
   "metadata": {
    "ExecuteTime": {
     "end_time": "2022-04-19T12:40:52.961929Z",
     "start_time": "2022-04-19T12:40:52.935058Z"
    }
   },
   "outputs": [
    {
     "name": "stdout",
     "output_type": "stream",
     "text": [
      "Filtered Sentence: ['Oh', 'goodness', ',', 'I', 'say', '?', 'We', 'totally', 'blown', 'away', 'place', '.', 'The', 'cocktails', '(', 'Madame', 'Butterfly', ')', 'food', '(', 'porchetta', 'melt', 'mouth', ',', 'duck', 'ragu', 'savory', 'perfection', ',', 'particular', ')', 'perfection', '.', 'I', 'wish', 'I', 'lived', 'closer', 'visit', 'often', '.', 'You', 'need', 'eat', '.']\n",
      "\n",
      "Stemmed Sentence: ['oh', 'good', ',', 'i', 'say', '?', 'we', 'total', 'blown', 'away', 'place', '.', 'the', 'cocktail', '(', 'madam', 'butterfli', ')', 'food', '(', 'porchetta', 'melt', 'mouth', ',', 'duck', 'ragu', 'savori', 'perfect', ',', 'particular', ')', 'perfect', '.', 'i', 'wish', 'i', 'live', 'closer', 'visit', 'often', '.', 'you', 'need', 'eat', '.']\n"
     ]
    }
   ],
   "source": [
    "# Stemming\n",
    "from nltk.stem import PorterStemmer\n",
    "from nltk.tokenize import sent_tokenize, word_tokenize\n",
    "\n",
    "ps = PorterStemmer()\n",
    "\n",
    "stemmed_words=[]\n",
    "for w in filtered_sent:\n",
    "    stemmed_words.append(ps.stem(w))\n",
    "\n",
    "print(\"Filtered Sentence:\",filtered_sent)\n",
    "print(\"\\nStemmed Sentence:\",stemmed_words)"
   ]
  },
  {
   "cell_type": "markdown",
   "id": "0b29e39b",
   "metadata": {
    "ExecuteTime": {
     "end_time": "2022-04-17T22:19:04.516027Z",
     "start_time": "2022-04-17T22:19:04.499637Z"
    }
   },
   "source": [
    "## - Exercici 3.1\n",
    "Realitza sentiment analysis al teu conjunt de dades."
   ]
  },
  {
   "cell_type": "code",
   "execution_count": 115,
   "id": "61a140b0",
   "metadata": {
    "ExecuteTime": {
     "end_time": "2022-04-19T16:34:37.890059Z",
     "start_time": "2022-04-19T16:34:37.764187Z"
    }
   },
   "outputs": [
    {
     "name": "stdout",
     "output_type": "stream",
     "text": [
      "{'neg': 0.0, 'neu': 0.775, 'pos': 0.225, 'compound': 0.9201}\n",
      "{'neg': 0.0, 'neu': 0.667, 'pos': 0.333, 'compound': 0.9186}\n"
     ]
    }
   ],
   "source": [
    "from nltk.sentiment.vader import SentimentIntensityAnalyzer\n",
    "\n",
    "def sent_analysis(text):\n",
    "    score = SentimentIntensityAnalyzer().polarity_scores(text)\n",
    "    print(score)\n",
    "\n",
    "#analysing sentiment from the original text\n",
    "sent_analysis(text)\n",
    "\n",
    "#saving the text in a clear format from the stemmed words before\n",
    "text_clean = \" \".join(stemmed_words)\n",
    "text_clean\n",
    "\n",
    "#analysing sentiment from the stemmed text\n",
    "sent_analysis(text_clean)"
   ]
  },
  {
   "cell_type": "markdown",
   "id": "535b5af2",
   "metadata": {},
   "source": [
    "<font color='blue'>We've seen the sentiment analysis before and after applying Stemming to the text. In both cases the estimator is quite certain about the result (~92%), but the answer is estimated 70% 'neutral' which is not bringing much information about the text. However it's worth to highlight that the estimator is very certain that the text's sentiment is not 'negative' (0%), while it's 30% probable that's 'positive'. In this case the estimator performs well, since the text is clearly positive."
   ]
  }
 ],
 "metadata": {
  "kernelspec": {
   "display_name": "Python 3",
   "language": "python",
   "name": "python3"
  },
  "language_info": {
   "codemirror_mode": {
    "name": "ipython",
    "version": 3
   },
   "file_extension": ".py",
   "mimetype": "text/x-python",
   "name": "python",
   "nbconvert_exporter": "python",
   "pygments_lexer": "ipython3",
   "version": "3.8.8"
  }
 },
 "nbformat": 4,
 "nbformat_minor": 5
}
